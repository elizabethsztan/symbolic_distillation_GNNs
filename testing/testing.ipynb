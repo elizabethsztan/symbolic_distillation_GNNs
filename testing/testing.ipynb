{
 "cells": [
  {
   "cell_type": "markdown",
   "metadata": {},
   "source": [
    "HOW THE HELL DO I MAKE A GNN"
   ]
  },
  {
   "cell_type": "code",
   "execution_count": 5,
   "metadata": {},
   "outputs": [],
   "source": [
    "import torch\n",
    "import torch.nn as nn\n",
    "from torch_geometric.nn import MessagePassing\n",
    "from torch.utils.data import Dataset, DataLoader"
   ]
  },
  {
   "cell_type": "markdown",
   "metadata": {},
   "source": [
    "Graph neural network\n",
    "\n",
    "$v_i' = \\phi^v (v_i, \\sum_j \\phi^e(v_i, v_j))$\n",
    "\n",
    "$\\phi^e$ is the edge model which creates the edge message from two nodes\n",
    "\n",
    "$\\phi^v$ is the node model which predicts the instantaneous acceleration of the recieving node from the aggregated edge messages and node information.\n",
    "\n",
    "Both are MLPs.\n",
    "\n",
    "The node information $x_i$ is the position $(x, y)$, velocity $(\\Delta x, \\Delta y)$, charge and mass.\n",
    "\n"
   ]
  },
  {
   "cell_type": "code",
   "execution_count": 6,
   "metadata": {},
   "outputs": [
    {
     "data": {
      "text/plain": [
       "torch.Size([2, 90])"
      ]
     },
     "execution_count": 6,
     "metadata": {},
     "output_type": "execute_result"
    }
   ],
   "source": [
    "def get_edge_index(num_nodes): #edge index for fully connected graph\n",
    "    idx = torch.arange(num_nodes)\n",
    "    edge_index = torch.cartesian_prod(idx, idx)\n",
    "    edge_index = edge_index[edge_index[:, 0] != edge_index[:, 1]]\n",
    "    return edge_index.t()\n",
    "\n",
    "edges =get_edge_index(10)\n",
    "edges.shape"
   ]
  },
  {
   "cell_type": "code",
   "execution_count": 7,
   "metadata": {},
   "outputs": [],
   "source": [
    "def get_edge_index(num_nodes): #edge index for fully connected graph\n",
    "    idx = torch.arange(num_nodes)\n",
    "    edge_index = torch.cartesian_prod(idx, idx)\n",
    "    edge_index = edge_index[edge_index[:, 0] != edge_index[:, 1]]\n",
    "    return edge_index.t()\n",
    "\n",
    "class NBodyGNN(MessagePassing):\n",
    "    def __init__(self, node_dim = 6, acc_dim = 2, hidden_dim = 300):\n",
    "        \"\"\" \n",
    "        N-body graph NN class.\n",
    "\n",
    "        Args:\n",
    "            node_dim (int): dimensionality of the node (in 2d case it is 6)\n",
    "            acc_dim (int): dimensionality of the output of the network, which are accelerations so in 2d = 2\n",
    "            hidden_dim (int): hidden layer dimensions \n",
    "\n",
    "        \"\"\"\n",
    "    \n",
    "        super().__init__(aggr='add')\n",
    "         \n",
    "        #edge model MLP\n",
    "        self.edge_model = nn.Sequential(\n",
    "            nn.Linear(2*node_dim, hidden_dim), #inputs = node information for two nodes\n",
    "            nn.ReLU(),\n",
    "            nn.Linear(hidden_dim, hidden_dim),\n",
    "            nn.ReLU(),\n",
    "            nn.Linear(hidden_dim, 100) #output message features of dimension 100 for standard and L1 model \n",
    "        )\n",
    "        #node model MLP\n",
    "        self.node_model = nn.Sequential(\n",
    "            nn.Linear(node_dim + 100, hidden_dim), #inputs = sum of outputs of edge model and node features\n",
    "            nn.ReLU(),\n",
    "            nn.Linear(hidden_dim, hidden_dim),\n",
    "            nn.ReLU(),\n",
    "            nn.Linear(hidden_dim, acc_dim) #output = predicted acc\n",
    "        )\n",
    "\n",
    "    def message(self, x_i, x_j):\n",
    "        x = torch.cat((x_i, x_j), dim = -1) #can change the dimension ? not hugely sure which one it right tbh \n",
    "        x = self.edge_model(x)\n",
    "        return x\n",
    "\n",
    "    def forward(self, x, edge_index): \n",
    "        \"\"\"forward pass of this network\n",
    "\n",
    "        Args:\n",
    "            x (torch.Tensor): shape is [no_nodes, no_node_features]\n",
    "            edge_index (torch.Tensor): shape is [2, no_edges]\n",
    "        \"\"\"\n",
    "\n",
    "        edge_message =  self.propagate(edge_index, x = (x,x)) #use same feature matrix for both source and target nodes\n",
    "        acc_pred = self.node_model(torch.cat([x, edge_message], dim = -1)) #predict accelerations\n",
    "\n",
    "        return acc_pred\n",
    "\n"
   ]
  },
  {
   "cell_type": "code",
<<<<<<< HEAD
   "execution_count": 8,
=======
   "execution_count": 36,
>>>>>>> main
   "metadata": {},
   "outputs": [],
   "source": [
    "class NBodyDataset(Dataset):\n",
    "    \"\"\"\n",
    "    Help organise and manage the dataset. Later used in DataLoader.\n",
    "    \"\"\"\n",
    "    def __init__(self, data, targets):\n",
    "        \"\"\"\n",
    "        Args:\n",
    "            data (torch.Tensor): shape is [no_datapoints, no_nodes, no_node_features]\n",
    "            targets (torch.Tensor): shape is [no_datapoints, no_nodes, 2d_acceleration]\n",
    "        \"\"\"\n",
    "        self.data = data\n",
    "        self.targets = targets\n",
    "\n",
    "    def __len__(self):\n",
    "        return len(self.data) #how many samples in dataset to use later for batching\n",
    "\n",
    "    def __getitem__(self, idx):\n",
    "        nodes = self.data[idx]  # shape: [no_nodes, no_node_features] \n",
    "        acc = self.targets[idx]\n",
    "        return nodes, acc #inputs and target variables\n",
    "\n",
    "def train (train_data, val_data, num_epoch):\n",
    "\n",
    "    #training data\n",
    "    input_data, acc = train_data\n",
    "    dataset = NBodyDataset(input_data, acc)   \n",
    "    dataloader = DataLoader(dataset, batch_size=32, shuffle=True)\n",
    "\n",
    "    #validation data\n",
    "    input_val, acc_val = val_data\n",
    "    val_dataset = NBodyDataset(input_val, acc_val)\n",
    "    val_dataloader = DataLoader(val_dataset, batch_size=32, shuffle=True)\n",
    "\n",
    "    model = NBodyGNN() #TODO: input dimensionality pls\n",
    "    optimiser = torch.optim.Adam(model.parameters(), weight_decay=1e-8) #L2 regulariser on params\n",
    "    criterion = nn.L1Loss() #MAE loss\n",
    "\n",
    "    edge_index = get_edge_index(input_data.shape[1]) #this never changes so we only calc once\n",
    "\n",
    "    for epoch in range (num_epoch):\n",
    "        total_loss = 0 #loss tracking\n",
    "        \n",
    "        #set model in training mode\n",
    "        model.train()\n",
    "        for nodes, acc in dataloader:\n",
    "\n",
    "            #training\n",
    "            optimiser.zero_grad()\n",
    "\n",
    "            acc_pred = model(nodes, edge_index) #automatically calls model.forward()\n",
    "            \n",
    "            loss = criterion(acc_pred, acc)\n",
    "\n",
    "            loss.backward()\n",
    "            optimiser.step()\n",
    "\n",
    "            total_loss += loss.item()\n",
    "\n",
    "        #validation \n",
    "        model.eval()\n",
    "        val_loss = 0\n",
    "        with torch.no_grad():\n",
    "            for nodes, acc in val_dataloader:\n",
    "                acc_pred = model(nodes, edge_index)\n",
    "                val_loss += criterion(acc_pred, acc).item()\n",
    "\n",
    "        \n",
    "        avg_loss = total_loss/len(dataloader)\n",
    "        avg_val_loss = val_loss/len(val_dataloader)\n",
    "        print(f'Epoch [{epoch+1}/{num_epoch}], training loss: {avg_loss:.4f}, val loss: {avg_val_loss:.4f}')\n",
    "\n",
    "    return model\n"
   ]
  },
  {
   "cell_type": "code",
   "execution_count": null,
   "metadata": {},
   "outputs": [],
   "source": []
  },
  {
   "cell_type": "code",
<<<<<<< HEAD
   "execution_count": 9,
=======
   "execution_count": 27,
>>>>>>> main
   "metadata": {},
   "outputs": [],
   "source": [
    "def load_data(path):\n",
    "    data = torch.load(f\"{path}.pt\")\n",
    "    return data['X'], data['y']"
   ]
  },
  {
   "cell_type": "code",
<<<<<<< HEAD
   "execution_count": 11,
=======
   "execution_count": 44,
>>>>>>> main
   "metadata": {},
   "outputs": [],
   "source": [
    "data = load_data('../simulations/datasets/r1_n=3_dim=2_nt=1000_dt=0.005')\n",
    "X, y = data\n",
    "from sklearn.model_selection import train_test_split\n",
    "\n",
<<<<<<< HEAD
    "X_train, X_val, y_train, y_val = train_test_split(X, y, shuffle=False)"
=======
    "X_train, X_test, y_train, y_test = train_test_split(X, y, shuffle=False)"
>>>>>>> main
   ]
  },
  {
   "cell_type": "code",
   "execution_count": 40,
   "metadata": {},
   "outputs": [
    {
     "data": {
      "text/plain": [
       "100"
      ]
     },
     "execution_count": 40,
     "metadata": {},
     "output_type": "execute_result"
    }
   ],
   "source": [
    "len(X[:100])"
   ]
  },
  {
   "cell_type": "code",
   "execution_count": 33,
   "metadata": {},
   "outputs": [
    {
     "data": {
      "text/plain": [
       "3"
      ]
     },
     "execution_count": 33,
     "metadata": {},
     "output_type": "execute_result"
    }
   ],
   "source": [
    "X.shape[1]"
   ]
  },
  {
   "cell_type": "code",
   "execution_count": null,
   "metadata": {},
   "outputs": [],
   "source": [
    "#TODO: test the model on the test data "
   ]
  },
  {
   "cell_type": "code",
<<<<<<< HEAD
   "execution_count": 12,
=======
   "execution_count": null,
>>>>>>> main
   "metadata": {},
   "outputs": [
    {
     "name": "stdout",
     "output_type": "stream",
     "text": [
<<<<<<< HEAD
      "Epoch [1/10], training loss: 1.0021, val loss: 1.5769\n",
      "Epoch [2/10], training loss: 0.7231, val loss: 1.3077\n",
      "Epoch [3/10], training loss: 0.6237, val loss: 1.3213\n",
      "Epoch [4/10], training loss: 0.4705, val loss: 1.1387\n",
      "Epoch [5/10], training loss: 0.4151, val loss: 0.8421\n",
      "Epoch [6/10], training loss: 0.3700, val loss: 0.9871\n",
      "Epoch [7/10], training loss: 0.3679, val loss: 0.8900\n",
      "Epoch [8/10], training loss: 0.3086, val loss: 0.7362\n",
      "Epoch [9/10], training loss: 0.2809, val loss: 0.8673\n",
      "Epoch [10/10], training loss: 0.2704, val loss: 0.6958\n"
=======
      "Epoch [1/15], Loss: 0.7619\n",
      "Epoch [2/15], Loss: 0.4405\n",
      "Epoch [3/15], Loss: 0.3793\n"
     ]
    },
    {
     "ename": "KeyboardInterrupt",
     "evalue": "",
     "output_type": "error",
     "traceback": [
      "\u001b[0;31m---------------------------------------------------------------------------\u001b[0m",
      "\u001b[0;31mKeyboardInterrupt\u001b[0m                         Traceback (most recent call last)",
      "Cell \u001b[0;32mIn[43], line 3\u001b[0m\n\u001b[1;32m      1\u001b[0m cutoff \u001b[38;5;241m=\u001b[39m \u001b[38;5;241m50000\u001b[39m\n\u001b[0;32m----> 3\u001b[0m model \u001b[38;5;241m=\u001b[39m \u001b[43mtrain\u001b[49m\u001b[43m(\u001b[49m\u001b[43m(\u001b[49m\u001b[43mX\u001b[49m\u001b[43m[\u001b[49m\u001b[43m:\u001b[49m\u001b[43mcutoff\u001b[49m\u001b[43m]\u001b[49m\u001b[43m,\u001b[49m\u001b[43m \u001b[49m\u001b[43my\u001b[49m\u001b[43m[\u001b[49m\u001b[43m:\u001b[49m\u001b[43mcutoff\u001b[49m\u001b[43m]\u001b[49m\u001b[43m)\u001b[49m\u001b[43m,\u001b[49m\u001b[43m \u001b[49m\u001b[38;5;241;43m15\u001b[39;49m\u001b[43m)\u001b[49m\n",
      "Cell \u001b[0;32mIn[36], line 44\u001b[0m, in \u001b[0;36mtrain\u001b[0;34m(data, num_epoch)\u001b[0m\n\u001b[1;32m     40\u001b[0m acc_pred \u001b[38;5;241m=\u001b[39m model(nodes, edge_index) \u001b[38;5;66;03m#automatically calls model.forward()\u001b[39;00m\n\u001b[1;32m     42\u001b[0m loss \u001b[38;5;241m=\u001b[39m criterion(acc_pred, acc)\n\u001b[0;32m---> 44\u001b[0m \u001b[43mloss\u001b[49m\u001b[38;5;241;43m.\u001b[39;49m\u001b[43mbackward\u001b[49m\u001b[43m(\u001b[49m\u001b[43m)\u001b[49m\n\u001b[1;32m     45\u001b[0m optimiser\u001b[38;5;241m.\u001b[39mstep()\n\u001b[1;32m     47\u001b[0m total_loss \u001b[38;5;241m+\u001b[39m\u001b[38;5;241m=\u001b[39m loss\u001b[38;5;241m.\u001b[39mitem()\n",
      "File \u001b[0;32m~/symbolic_distillation_GNNs/.venv/lib/python3.10/site-packages/torch/_tensor.py:626\u001b[0m, in \u001b[0;36mTensor.backward\u001b[0;34m(self, gradient, retain_graph, create_graph, inputs)\u001b[0m\n\u001b[1;32m    616\u001b[0m \u001b[38;5;28;01mif\u001b[39;00m has_torch_function_unary(\u001b[38;5;28mself\u001b[39m):\n\u001b[1;32m    617\u001b[0m     \u001b[38;5;28;01mreturn\u001b[39;00m handle_torch_function(\n\u001b[1;32m    618\u001b[0m         Tensor\u001b[38;5;241m.\u001b[39mbackward,\n\u001b[1;32m    619\u001b[0m         (\u001b[38;5;28mself\u001b[39m,),\n\u001b[0;32m   (...)\u001b[0m\n\u001b[1;32m    624\u001b[0m         inputs\u001b[38;5;241m=\u001b[39minputs,\n\u001b[1;32m    625\u001b[0m     )\n\u001b[0;32m--> 626\u001b[0m \u001b[43mtorch\u001b[49m\u001b[38;5;241;43m.\u001b[39;49m\u001b[43mautograd\u001b[49m\u001b[38;5;241;43m.\u001b[39;49m\u001b[43mbackward\u001b[49m\u001b[43m(\u001b[49m\n\u001b[1;32m    627\u001b[0m \u001b[43m    \u001b[49m\u001b[38;5;28;43mself\u001b[39;49m\u001b[43m,\u001b[49m\u001b[43m \u001b[49m\u001b[43mgradient\u001b[49m\u001b[43m,\u001b[49m\u001b[43m \u001b[49m\u001b[43mretain_graph\u001b[49m\u001b[43m,\u001b[49m\u001b[43m \u001b[49m\u001b[43mcreate_graph\u001b[49m\u001b[43m,\u001b[49m\u001b[43m \u001b[49m\u001b[43minputs\u001b[49m\u001b[38;5;241;43m=\u001b[39;49m\u001b[43minputs\u001b[49m\n\u001b[1;32m    628\u001b[0m \u001b[43m\u001b[49m\u001b[43m)\u001b[49m\n",
      "File \u001b[0;32m~/symbolic_distillation_GNNs/.venv/lib/python3.10/site-packages/torch/autograd/__init__.py:347\u001b[0m, in \u001b[0;36mbackward\u001b[0;34m(tensors, grad_tensors, retain_graph, create_graph, grad_variables, inputs)\u001b[0m\n\u001b[1;32m    342\u001b[0m     retain_graph \u001b[38;5;241m=\u001b[39m create_graph\n\u001b[1;32m    344\u001b[0m \u001b[38;5;66;03m# The reason we repeat the same comment below is that\u001b[39;00m\n\u001b[1;32m    345\u001b[0m \u001b[38;5;66;03m# some Python versions print out the first line of a multi-line function\u001b[39;00m\n\u001b[1;32m    346\u001b[0m \u001b[38;5;66;03m# calls in the traceback and some print out the last line\u001b[39;00m\n\u001b[0;32m--> 347\u001b[0m \u001b[43m_engine_run_backward\u001b[49m\u001b[43m(\u001b[49m\n\u001b[1;32m    348\u001b[0m \u001b[43m    \u001b[49m\u001b[43mtensors\u001b[49m\u001b[43m,\u001b[49m\n\u001b[1;32m    349\u001b[0m \u001b[43m    \u001b[49m\u001b[43mgrad_tensors_\u001b[49m\u001b[43m,\u001b[49m\n\u001b[1;32m    350\u001b[0m \u001b[43m    \u001b[49m\u001b[43mretain_graph\u001b[49m\u001b[43m,\u001b[49m\n\u001b[1;32m    351\u001b[0m \u001b[43m    \u001b[49m\u001b[43mcreate_graph\u001b[49m\u001b[43m,\u001b[49m\n\u001b[1;32m    352\u001b[0m \u001b[43m    \u001b[49m\u001b[43minputs\u001b[49m\u001b[43m,\u001b[49m\n\u001b[1;32m    353\u001b[0m \u001b[43m    \u001b[49m\u001b[43mallow_unreachable\u001b[49m\u001b[38;5;241;43m=\u001b[39;49m\u001b[38;5;28;43;01mTrue\u001b[39;49;00m\u001b[43m,\u001b[49m\n\u001b[1;32m    354\u001b[0m \u001b[43m    \u001b[49m\u001b[43maccumulate_grad\u001b[49m\u001b[38;5;241;43m=\u001b[39;49m\u001b[38;5;28;43;01mTrue\u001b[39;49;00m\u001b[43m,\u001b[49m\n\u001b[1;32m    355\u001b[0m \u001b[43m\u001b[49m\u001b[43m)\u001b[49m\n",
      "File \u001b[0;32m~/symbolic_distillation_GNNs/.venv/lib/python3.10/site-packages/torch/autograd/graph.py:823\u001b[0m, in \u001b[0;36m_engine_run_backward\u001b[0;34m(t_outputs, *args, **kwargs)\u001b[0m\n\u001b[1;32m    821\u001b[0m     unregister_hooks \u001b[38;5;241m=\u001b[39m _register_logging_hooks_on_whole_graph(t_outputs)\n\u001b[1;32m    822\u001b[0m \u001b[38;5;28;01mtry\u001b[39;00m:\n\u001b[0;32m--> 823\u001b[0m     \u001b[38;5;28;01mreturn\u001b[39;00m \u001b[43mVariable\u001b[49m\u001b[38;5;241;43m.\u001b[39;49m\u001b[43m_execution_engine\u001b[49m\u001b[38;5;241;43m.\u001b[39;49m\u001b[43mrun_backward\u001b[49m\u001b[43m(\u001b[49m\u001b[43m  \u001b[49m\u001b[38;5;66;43;03m# Calls into the C++ engine to run the backward pass\u001b[39;49;00m\n\u001b[1;32m    824\u001b[0m \u001b[43m        \u001b[49m\u001b[43mt_outputs\u001b[49m\u001b[43m,\u001b[49m\u001b[43m \u001b[49m\u001b[38;5;241;43m*\u001b[39;49m\u001b[43margs\u001b[49m\u001b[43m,\u001b[49m\u001b[43m \u001b[49m\u001b[38;5;241;43m*\u001b[39;49m\u001b[38;5;241;43m*\u001b[39;49m\u001b[43mkwargs\u001b[49m\n\u001b[1;32m    825\u001b[0m \u001b[43m    \u001b[49m\u001b[43m)\u001b[49m  \u001b[38;5;66;03m# Calls into the C++ engine to run the backward pass\u001b[39;00m\n\u001b[1;32m    826\u001b[0m \u001b[38;5;28;01mfinally\u001b[39;00m:\n\u001b[1;32m    827\u001b[0m     \u001b[38;5;28;01mif\u001b[39;00m attach_logging_hooks:\n",
      "\u001b[0;31mKeyboardInterrupt\u001b[0m: "
>>>>>>> main
     ]
    }
   ],
   "source": [
    "cutoff = 10000\n",
    "val_cutoff = 2500\n",
    "\n",
<<<<<<< HEAD
    "model = train((X_train[:cutoff], y_train[:cutoff]), (X_val[:cutoff], y_val[:cutoff]), 10)"
=======
    "model = train((X_train[:cutoff], y_train[:cutoff]), 10)"
>>>>>>> main
   ]
  },
  {
   "cell_type": "code",
   "execution_count": null,
   "metadata": {},
   "outputs": [],
   "source": []
  }
 ],
 "metadata": {
  "kernelspec": {
   "display_name": ".venv",
   "language": "python",
   "name": "python3"
  },
  "language_info": {
   "codemirror_mode": {
    "name": "ipython",
    "version": 3
   },
   "file_extension": ".py",
   "mimetype": "text/x-python",
   "name": "python",
   "nbconvert_exporter": "python",
   "pygments_lexer": "ipython3",
   "version": "3.12.3"
  }
 },
 "nbformat": 4,
 "nbformat_minor": 2
}
