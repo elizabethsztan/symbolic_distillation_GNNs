{
 "cells": [
  {
   "cell_type": "markdown",
   "metadata": {},
   "source": [
    "HOW THE HELL DO I MAKE A GNN"
   ]
  },
  {
   "cell_type": "code",
   "execution_count": 2,
   "metadata": {},
   "outputs": [],
   "source": [
    "import torch\n",
    "import torch.nn as nn"
   ]
  },
  {
   "cell_type": "markdown",
   "metadata": {},
   "source": [
    "Graph neural network\n",
    "\n",
    "$y_i = f (x_i, \\sum_j g(x_i, x_j))$\n",
    "\n",
    "where $f$ and $g$ are both MLPs.\n",
    "In our case here, we have no edge information. The node information $x_i$ is the position $(x, y)$, velocity $(\\Delta x, \\Delta y)$, charge and mass.\n",
    "The output would be the instantaneous acceleration of the node."
   ]
  },
  {
   "cell_type": "code",
   "execution_count": null,
   "metadata": {},
   "outputs": [],
   "source": [
    "class NBodyGNN(nn.Module):\n",
    "    def __init__(self, node_dim, hidden_dim = 300):\n",
    "        \"\"\" \n",
    "        N-body graph NN class.\n",
    "\n",
    "        Args:\n",
    "            node_dim (int): dimensionality of the node (in 2d case it is 6)\n",
    "            hidden_dim (int): hidden layer dimensions \n",
    "        \"\"\"\n",
    "        super().__init__()\n",
    "         \n",
    "        #interaction of nearest neighbours\n",
    "        self.edge_model = nn.Sequential(\n",
    "            nn.Linear(2*node_dim, hidden_dim), #inputs = node information for two nodes\n",
    "            nn.ReLU(),\n",
    "            nn.Linear(hidden_dim, hidden_dim),\n",
    "            nn.ReLU()\n",
    "            nn.Linear(hidden_dim, 100) #output message features of dimension 100 for standard and L1 model \n",
    "        )\n",
    "        #update the node features\n",
    "        self.node_model = nn.Sequential(\n",
    "            nn.Linear(node_dim + hidden_dim, hidden_dim), #inputs = sum of outputs of edge model and node features\n",
    "            nn.ReLU(),\n",
    "            nn.Linear(hidden_dim, hidden_dim)\n",
    "            nn.ReLU()\n",
    "            nn.Linear(hidden_dim, node_dim) #output = updated node features\n",
    "        )\n",
    "\n",
    "#TODO: make the forward pass of the model where u predict things\n",
    "# get loss function with losses (only L2 for now later we do L1 for the message features)\n",
    "\n",
    "\n",
    "\n",
    "\n"
   ]
  }
 ],
 "metadata": {
  "kernelspec": {
   "display_name": ".venv",
   "language": "python",
   "name": "python3"
  },
  "language_info": {
   "codemirror_mode": {
    "name": "ipython",
    "version": 3
   },
   "file_extension": ".py",
   "mimetype": "text/x-python",
   "name": "python",
   "nbconvert_exporter": "python",
   "pygments_lexer": "ipython3",
   "version": "3.10.16"
  }
 },
 "nbformat": 4,
 "nbformat_minor": 2
}
