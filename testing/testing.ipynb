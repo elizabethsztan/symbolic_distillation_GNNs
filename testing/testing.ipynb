{
 "cells": [
  {
   "cell_type": "markdown",
   "metadata": {},
   "source": [
    "HOW THE HELL DO I MAKE A GNN"
   ]
  },
  {
   "cell_type": "code",
   "execution_count": 1,
   "metadata": {},
   "outputs": [],
   "source": [
    "import torch\n",
    "import torch.nn as nn\n",
    "from torch_geometric.nn import MessagePassing"
   ]
  },
  {
   "cell_type": "markdown",
   "metadata": {},
   "source": [
    "Graph neural network\n",
    "\n",
    "$v_i' = \\phi^v (v_i, \\sum_j \\phi^e(v_i, v_j))$\n",
    "\n",
    "$\\phi^e$ is the edge model which creates the edge message from two nodes\n",
    "\n",
    "$\\phi^v$ is the node model which predicts the instantaneous acceleration of the recieving node from the aggregated edge messages and node information.\n",
    "\n",
    "Both are MLPs.\n",
    "\n",
    "The node information $x_i$ is the position $(x, y)$, velocity $(\\Delta x, \\Delta y)$, charge and mass.\n",
    "\n"
   ]
  },
  {
   "cell_type": "code",
   "execution_count": 2,
   "metadata": {},
   "outputs": [
    {
     "data": {
      "text/plain": [
       "torch.Size([2, 90])"
      ]
     },
     "execution_count": 2,
     "metadata": {},
     "output_type": "execute_result"
    }
   ],
   "source": [
    "def get_edge_index(num_nodes): #edge index for fully connected graph\n",
    "    idx = torch.arange(num_nodes)\n",
    "    edge_index = torch.cartesian_prod(idx, idx)\n",
    "    edge_index = edge_index[edge_index[:, 0] != edge_index[:, 1]]\n",
    "    return edge_index.t()\n",
    "\n",
    "edges =get_edge_index(10)\n",
    "edges.shape"
   ]
  },
  {
   "cell_type": "code",
   "execution_count": null,
   "metadata": {},
   "outputs": [],
   "source": [
    "def get_edge_index(num_nodes): #edge index for fully connected graph\n",
    "    idx = torch.arange(num_nodes)\n",
    "    edge_index = torch.cartesian_prod(idx, idx)\n",
    "    edge_index = edge_index[edge_index[:, 0] != edge_index[:, 1]]\n",
    "    return edge_index.t()\n",
    "\n",
    "class NBodyGNN(MessagePassing):\n",
    "    def __init__(self, node_dim = 6, acc_dim = 2, hidden_dim = 300):\n",
    "        \"\"\" \n",
    "        N-body graph NN class.\n",
    "\n",
    "        Args:\n",
    "            node_dim (int): dimensionality of the node (in 2d case it is 6)\n",
    "            acc_dim (int): dimensionality of the output of the network, which are accelerations so in 2d = 2\n",
    "            hidden_dim (int): hidden layer dimensions \n",
    "\n",
    "        \"\"\"\n",
    "    \n",
    "        super().__init__(aggr='add')\n",
    "         \n",
    "        #edge model MLP\n",
    "        self.edge_model = nn.Sequential(\n",
    "            nn.Linear(2*node_dim, hidden_dim), #inputs = node information for two nodes\n",
    "            nn.ReLU(),\n",
    "            nn.Linear(hidden_dim, hidden_dim),\n",
    "            nn.ReLU()\n",
    "            nn.Linear(hidden_dim, 100) #output message features of dimension 100 for standard and L1 model \n",
    "        )\n",
    "        #node model MLP\n",
    "        self.node_model = nn.Sequential(\n",
    "            nn.Linear(node_dim + 100, hidden_dim), #inputs = sum of outputs of edge model and node features\n",
    "            nn.ReLU(),\n",
    "            nn.Linear(hidden_dim, hidden_dim)\n",
    "            nn.ReLU()\n",
    "            nn.Linear(hidden_dim, acc_dim) #output = predicted acc\n",
    "        )\n",
    "\n",
    "    def message(self, x_i, x_j):\n",
    "        x = torch.cat((x_i, x_j), dim = -1) #can change the dimension ? not hugely sure which one it right tbh \n",
    "        x = self.edge_model(x)\n",
    "        return x\n",
    "\n",
    "\n",
    "    def forward(self, x, edge_index): \n",
    "        \"\"\"forward pass of this network\n",
    "\n",
    "        Args:\n",
    "            x (torch.Tensor): shape is [num nodes, node features]\n",
    "            edge_index (torch.Tensor): shape is [2, num edges]\n",
    "        \"\"\"\n",
    "\n",
    "        edge_message =  self.propagate(edge_index, x = (x,x)) #use same feature matrix for both source and target nodes\n",
    "        acc = self.node_model(edge_message) #predict accelerations\n",
    "\n",
    "        return acc\n",
    "\n",
    "\n",
    "        \n",
    "\n",
    "        \n",
    "\n",
    "\n",
    "#TODO: make the forward pass of the model where u predict things\n",
    "# get loss function with losses (only L2 for now later we do L1 for the message features)\n",
    "\n",
    "\n",
    "\n",
    "\n"
   ]
  },
  {
   "cell_type": "code",
   "execution_count": null,
   "metadata": {},
   "outputs": [],
   "source": []
  }
 ],
 "metadata": {
  "kernelspec": {
   "display_name": ".venv",
   "language": "python",
   "name": "python3"
  },
  "language_info": {
   "codemirror_mode": {
    "name": "ipython",
    "version": 3
   },
   "file_extension": ".py",
   "mimetype": "text/x-python",
   "name": "python",
   "nbconvert_exporter": "python",
   "pygments_lexer": "ipython3",
   "version": "3.10.16"
  }
 },
 "nbformat": 4,
 "nbformat_minor": 2
}
