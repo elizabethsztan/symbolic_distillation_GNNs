{
 "cells": [
  {
   "cell_type": "markdown",
   "metadata": {},
   "source": [
    "HOW THE HELL DO I MAKE A GNN"
   ]
  },
  {
   "cell_type": "code",
   "execution_count": 2,
   "metadata": {},
   "outputs": [],
   "source": [
    "import torch\n",
    "import torch.nn as nn"
   ]
  },
  {
   "cell_type": "markdown",
   "metadata": {},
   "source": [
    "Graph neural network\n",
    "\n",
    "$v_i' = \\phi^v (v_i, \\sum_j \\phi^e(v_i, v_j))$\n",
    "\n",
    "$\\phi^e$ is the edge model which creates the edge message from two nodes\n",
    "\n",
    "$\\phi^v$ is the node model which predicts the instantaneous acceleration of the recieving node from the aggregated edge messages and node information.\n",
    "\n",
    "Both are MLPs.\n",
    "\n",
    "The node information $x_i$ is the position $(x, y)$, velocity $(\\Delta x, \\Delta y)$, charge and mass.\n",
    "\n"
   ]
  },
  {
   "cell_type": "code",
   "execution_count": 6,
   "metadata": {},
   "outputs": [
    {
     "data": {
      "text/plain": [
       "tensor([[0, 0, 0, 0, 0, 0, 0, 0, 0, 1, 1, 1, 1, 1, 1, 1, 1, 1, 2, 2, 2, 2, 2, 2,\n",
       "         2, 2, 2, 3, 3, 3, 3, 3, 3, 3, 3, 3, 4, 4, 4, 4, 4, 4, 4, 4, 4, 5, 5, 5,\n",
       "         5, 5, 5, 5, 5, 5, 6, 6, 6, 6, 6, 6, 6, 6, 6, 7, 7, 7, 7, 7, 7, 7, 7, 7,\n",
       "         8, 8, 8, 8, 8, 8, 8, 8, 8, 9, 9, 9, 9, 9, 9, 9, 9, 9],\n",
       "        [1, 2, 3, 4, 5, 6, 7, 8, 9, 0, 2, 3, 4, 5, 6, 7, 8, 9, 0, 1, 3, 4, 5, 6,\n",
       "         7, 8, 9, 0, 1, 2, 4, 5, 6, 7, 8, 9, 0, 1, 2, 3, 5, 6, 7, 8, 9, 0, 1, 2,\n",
       "         3, 4, 6, 7, 8, 9, 0, 1, 2, 3, 4, 5, 7, 8, 9, 0, 1, 2, 3, 4, 5, 6, 8, 9,\n",
       "         0, 1, 2, 3, 4, 5, 6, 7, 9, 0, 1, 2, 3, 4, 5, 6, 7, 8]])"
      ]
     },
     "execution_count": 6,
     "metadata": {},
     "output_type": "execute_result"
    }
   ],
   "source": [
    "def get_edge_index(num_nodes): #edge index for fully connected graph\n",
    "    idx = torch.arange(num_nodes)\n",
    "    edge_index = torch.cartesian_prod(idx, idx)\n",
    "    edge_index = edge_index[edge_index[:, 0] != edge_index[:, 1]]\n",
    "    return edge_index.t()\n",
    "\n",
    "get_edge_index(10)"
   ]
  },
  {
   "cell_type": "code",
   "execution_count": null,
   "metadata": {},
   "outputs": [],
   "source": [
    "def get_edge_index(num_nodes): #edge index for fully connected graph\n",
    "    idx = torch.arange(num_nodes)\n",
    "    edge_index = torch.cartesian_prod(idx, idx)\n",
    "    edge_index = edge_index[edge_index[:, 0] != edge_index[:, 1]]\n",
    "    return edge_index.t()\n",
    "\n",
    "class NBodyGNN(nn.Module):\n",
    "    def __init__(self, node_dim, hidden_dim = 300):\n",
    "        \"\"\" \n",
    "        N-body graph NN class.\n",
    "\n",
    "        Args:\n",
    "            node_dim (int): dimensionality of the node (in 2d case it is 6)\n",
    "            hidden_dim (int): hidden layer dimensions \n",
    "        \"\"\"\n",
    "        super().__init__()\n",
    "         \n",
    "        #interaction of nearest neighbours\n",
    "        self.edge_model = nn.Sequential(\n",
    "            nn.Linear(2*node_dim, hidden_dim), #inputs = node information for two nodes\n",
    "            nn.ReLU(),\n",
    "            nn.Linear(hidden_dim, hidden_dim),\n",
    "            nn.ReLU()\n",
    "            nn.Linear(hidden_dim, 100) #output message features of dimension 100 for standard and L1 model \n",
    "        )\n",
    "        #update the node features\n",
    "        self.node_model = nn.Sequential(\n",
    "            nn.Linear(node_dim + hidden_dim, hidden_dim), #inputs = sum of outputs of edge model and node features\n",
    "            nn.ReLU(),\n",
    "            nn.Linear(hidden_dim, hidden_dim)\n",
    "            nn.ReLU()\n",
    "            nn.Linear(hidden_dim, node_dim) #output = updated node features\n",
    "        )\n",
    "\n",
    "\n",
    "    def forward(self, nodes, edge_index):\n",
    "\n",
    "        \n",
    "\n",
    "\n",
    "#TODO: make the forward pass of the model where u predict things\n",
    "# get loss function with losses (only L2 for now later we do L1 for the message features)\n",
    "\n",
    "\n",
    "\n",
    "\n"
   ]
  }
 ],
 "metadata": {
  "kernelspec": {
   "display_name": ".venv",
   "language": "python",
   "name": "python3"
  },
  "language_info": {
   "codemirror_mode": {
    "name": "ipython",
    "version": 3
   },
   "file_extension": ".py",
   "mimetype": "text/x-python",
   "name": "python",
   "nbconvert_exporter": "python",
   "pygments_lexer": "ipython3",
   "version": "3.12.3"
  }
 },
 "nbformat": 4,
 "nbformat_minor": 2
}
