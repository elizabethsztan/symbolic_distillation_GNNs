{
 "cells": [
  {
   "cell_type": "markdown",
   "metadata": {},
   "source": [
    "HOW THE HELL DO I MAKE A GNN"
   ]
  },
  {
   "cell_type": "code",
   "execution_count": 6,
   "metadata": {},
   "outputs": [],
   "source": [
    "import torch\n",
    "import torch.nn as nn\n",
    "from torch_geometric.nn import MessagePassing\n",
    "from torch.utils.data import Dataset, DataLoader"
   ]
  },
  {
   "cell_type": "markdown",
   "metadata": {},
   "source": [
    "Graph neural network\n",
    "\n",
    "$v_i' = \\phi^v (v_i, \\sum_j \\phi^e(v_i, v_j))$\n",
    "\n",
    "$\\phi^e$ is the edge model which creates the edge message from two nodes\n",
    "\n",
    "$\\phi^v$ is the node model which predicts the instantaneous acceleration of the recieving node from the aggregated edge messages and node information.\n",
    "\n",
    "Both are MLPs.\n",
    "\n",
    "The node information $x_i$ is the position $(x, y)$, velocity $(\\Delta x, \\Delta y)$, charge and mass.\n",
    "\n"
   ]
  },
  {
   "cell_type": "code",
   "execution_count": 2,
   "metadata": {},
   "outputs": [
    {
     "data": {
      "text/plain": [
       "torch.Size([2, 90])"
      ]
     },
     "execution_count": 2,
     "metadata": {},
     "output_type": "execute_result"
    }
   ],
   "source": [
    "def get_edge_index(num_nodes): #edge index for fully connected graph\n",
    "    idx = torch.arange(num_nodes)\n",
    "    edge_index = torch.cartesian_prod(idx, idx)\n",
    "    edge_index = edge_index[edge_index[:, 0] != edge_index[:, 1]]\n",
    "    return edge_index.t()\n",
    "\n",
    "edges =get_edge_index(10)\n",
    "edges.shape"
   ]
  },
  {
   "cell_type": "code",
   "execution_count": 16,
   "metadata": {},
   "outputs": [],
   "source": [
    "def get_edge_index(num_nodes): #edge index for fully connected graph\n",
    "    idx = torch.arange(num_nodes)\n",
    "    edge_index = torch.cartesian_prod(idx, idx)\n",
    "    edge_index = edge_index[edge_index[:, 0] != edge_index[:, 1]]\n",
    "    return edge_index.t()\n",
    "\n",
    "class NBodyGNN(MessagePassing):\n",
    "    def __init__(self, node_dim = 6, acc_dim = 2, hidden_dim = 300):\n",
    "        \"\"\" \n",
    "        N-body graph NN class.\n",
    "\n",
    "        Args:\n",
    "            node_dim (int): dimensionality of the node (in 2d case it is 6)\n",
    "            acc_dim (int): dimensionality of the output of the network, which are accelerations so in 2d = 2\n",
    "            hidden_dim (int): hidden layer dimensions \n",
    "\n",
    "        \"\"\"\n",
    "    \n",
    "        super().__init__(aggr='add')\n",
    "         \n",
    "        #edge model MLP\n",
    "        self.edge_model = nn.Sequential(\n",
    "            nn.Linear(2*node_dim, hidden_dim), #inputs = node information for two nodes\n",
    "            nn.ReLU(),\n",
    "            nn.Linear(hidden_dim, hidden_dim),\n",
    "            nn.ReLU(),\n",
    "            nn.Linear(hidden_dim, 100) #output message features of dimension 100 for standard and L1 model \n",
    "        )\n",
    "        #node model MLP\n",
    "        self.node_model = nn.Sequential(\n",
    "            nn.Linear(node_dim + 100, hidden_dim), #inputs = sum of outputs of edge model and node features\n",
    "            nn.ReLU(),\n",
    "            nn.Linear(hidden_dim, hidden_dim),\n",
    "            nn.ReLU(),\n",
    "            nn.Linear(hidden_dim, acc_dim) #output = predicted acc\n",
    "        )\n",
    "\n",
    "    def message(self, x_i, x_j):\n",
    "        x = torch.cat((x_i, x_j), dim = -1) #can change the dimension ? not hugely sure which one it right tbh \n",
    "        x = self.edge_model(x)\n",
    "        return x\n",
    "\n",
    "    def forward(self, x, edge_index): \n",
    "        \"\"\"forward pass of this network\n",
    "\n",
    "        Args:\n",
    "            x (torch.Tensor): shape is [no_nodes, no_node_features]\n",
    "            edge_index (torch.Tensor): shape is [2, no_edges]\n",
    "        \"\"\"\n",
    "\n",
    "        edge_message =  self.propagate(edge_index, x = (x,x)) #use same feature matrix for both source and target nodes\n",
    "        acc_pred = self.node_model(torch.cat([x, edge_message], dim = -1)) #predict accelerations\n",
    "\n",
    "        return acc_pred\n",
    "\n"
   ]
  },
  {
   "cell_type": "code",
   "execution_count": 25,
   "metadata": {},
   "outputs": [],
   "source": []
  },
  {
   "cell_type": "code",
   "execution_count": 36,
   "metadata": {},
   "outputs": [],
   "source": [
    "class NBodyDataset(Dataset):\n",
    "    \"\"\"\n",
    "    Help organise and manage the dataset. Later used in DataLoader.\n",
    "    \"\"\"\n",
    "    def __init__(self, data, targets):\n",
    "        \"\"\"\n",
    "        Args:\n",
    "            data (torch.Tensor): shape is [no_datapoints, no_nodes, no_node_features]\n",
    "            targets (torch.Tensor): shape is [no_datapoints, no_nodes, 2d_acceleration]\n",
    "        \"\"\"\n",
    "        self.data = data\n",
    "        self.targets = targets\n",
    "\n",
    "    def __len__(self):\n",
    "        return len(self.data) #how many samples in dataset to use later for batching\n",
    "\n",
    "    def __getitem__(self, idx):\n",
    "        nodes = self.data[idx]  # shape: [no_nodes, no_node_features] \n",
    "        acc = self.targets[idx]\n",
    "        return nodes, acc #inputs and target variables\n",
    "\n",
    "def train (data, num_epoch):\n",
    "    input_data, acc = data\n",
    "    dataset = NBodyDataset(input_data, acc)   \n",
    "    dataloader = DataLoader(dataset, batch_size=32, shuffle=True)\n",
    "\n",
    "    model = NBodyGNN()\n",
    "    optimiser = torch.optim.Adam(model.parameters(), weight_decay=1e-8) #L2 regulariser on params\n",
    "    criterion = nn.L1Loss() #MAE loss\n",
    "\n",
    "    edge_index = get_edge_index(input_data.shape[1]) #this never changes so we only calc once\n",
    "\n",
    "    for epoch in range (num_epoch):\n",
    "        total_loss = 0 #loss tracking\n",
    "        for nodes, acc in dataloader:\n",
    "\n",
    "            \n",
    "            optimiser.zero_grad()\n",
    "\n",
    "            acc_pred = model(nodes, edge_index) #automatically calls model.forward()\n",
    "            \n",
    "            loss = criterion(acc_pred, acc)\n",
    "\n",
    "            loss.backward()\n",
    "            optimiser.step()\n",
    "\n",
    "            total_loss += loss.item()\n",
    "        \n",
    "        avg_loss = total_loss/len(dataloader)\n",
    "        print(f'Epoch [{epoch+1}/{num_epoch}], Loss: {avg_loss:.4f}')\n",
    "\n",
    "    return model\n",
    "\n",
    "\n",
    "#TODO: Fix dataloader and train\n",
    "#how do i input the things into the network what\n",
    "\n"
   ]
  },
  {
   "cell_type": "code",
   "execution_count": 27,
   "metadata": {},
   "outputs": [],
   "source": [
    "def load_data(path):\n",
    "    data = torch.load(f\"{path}.pt\")\n",
    "    return data['X'], data['y']"
   ]
  },
  {
   "cell_type": "code",
   "execution_count": 38,
   "metadata": {},
   "outputs": [],
   "source": [
    "data = load_data('../simulations/datasets/r1_n=3_dim=2_nt=1000_dt=0.005')\n",
    "X, y = data"
   ]
  },
  {
   "cell_type": "code",
   "execution_count": 40,
   "metadata": {},
   "outputs": [
    {
     "data": {
      "text/plain": [
       "100"
      ]
     },
     "execution_count": 40,
     "metadata": {},
     "output_type": "execute_result"
    }
   ],
   "source": [
    "len(X[:100])"
   ]
  },
  {
   "cell_type": "code",
   "execution_count": 33,
   "metadata": {},
   "outputs": [
    {
     "data": {
      "text/plain": [
       "3"
      ]
     },
     "execution_count": 33,
     "metadata": {},
     "output_type": "execute_result"
    }
   ],
   "source": [
    "X.shape[1]"
   ]
  },
  {
   "cell_type": "code",
   "execution_count": 42,
   "metadata": {},
   "outputs": [
    {
     "name": "stdout",
     "output_type": "stream",
     "text": [
      "Epoch [1/10], Loss: 0.9816\n",
      "Epoch [2/10], Loss: 0.6859\n",
      "Epoch [3/10], Loss: 0.5602\n",
      "Epoch [4/10], Loss: 0.5102\n",
      "Epoch [5/10], Loss: 0.4263\n",
      "Epoch [6/10], Loss: 0.3683\n",
      "Epoch [7/10], Loss: 0.3357\n",
      "Epoch [8/10], Loss: 0.3111\n",
      "Epoch [9/10], Loss: 0.3375\n",
      "Epoch [10/10], Loss: 0.2823\n"
     ]
    }
   ],
   "source": [
    "cutoff = 10000\n",
    "\n",
    "model = train((X[:cutoff], y[:cutoff]), 10)"
   ]
  },
  {
   "cell_type": "code",
   "execution_count": null,
   "metadata": {},
   "outputs": [],
   "source": []
  }
 ],
 "metadata": {
  "kernelspec": {
   "display_name": ".venv",
   "language": "python",
   "name": "python3"
  },
  "language_info": {
   "codemirror_mode": {
    "name": "ipython",
    "version": 3
   },
   "file_extension": ".py",
   "mimetype": "text/x-python",
   "name": "python",
   "nbconvert_exporter": "python",
   "pygments_lexer": "ipython3",
   "version": "3.10.16"
  }
 },
 "nbformat": 4,
 "nbformat_minor": 2
}
