{
 "cells": [
  {
   "cell_type": "markdown",
   "metadata": {},
   "source": [
    "## Measuring the latent representations: activations of the message functions"
   ]
  },
  {
   "cell_type": "code",
   "execution_count": 11,
   "metadata": {},
   "outputs": [],
   "source": [
    "import sys\n",
    "import os\n",
    "\n",
    "parent_dir = os.path.abspath(os.path.join(os.getcwd(), '..'))\n",
    "sys.path.append(parent_dir)\n",
    "\n",
    "from model import *\n",
    "from sklearn.model_selection import train_test_split\n",
    "import pandas as pd\n",
    "import numpy as np\n",
    "import torch\n",
    "from torch.utils.data import DataLoader, TensorDataset"
   ]
  },
  {
   "cell_type": "code",
   "execution_count": 12,
   "metadata": {},
   "outputs": [],
   "source": [
    "#load the data\n",
    "data = load_data('../simulations/datasets/r1_n=3_dim=2_nt=1000_dt=0.005')\n",
    "X, y = data\n",
    "\n",
    "#make train, test, val sets\n",
    "X_train, X_test, y_train, y_test = train_test_split(X, y, shuffle=False)\n",
    "X_test, X_val, y_test, y_val = train_test_split(X_test, y_test, shuffle=False)"
   ]
  },
  {
   "cell_type": "markdown",
   "metadata": {},
   "source": [
    "train the model"
   ]
  },
  {
   "cell_type": "code",
   "execution_count": null,
   "metadata": {},
   "outputs": [
    {
     "name": "stderr",
     "output_type": "stream",
     "text": [
      "Epoch: 1/30: 100%|██████████| 1563/1563 [00:09<00:00, 166.76it/s]\n"
     ]
    },
    {
     "name": "stdout",
     "output_type": "stream",
     "text": [
      "training loss: 0.7438, val loss: 0.8829\n",
      "new best validation loss: 0.8829\n"
     ]
    },
    {
     "name": "stderr",
     "output_type": "stream",
     "text": [
      "Epoch: 2/30: 100%|██████████| 1563/1563 [00:09<00:00, 167.50it/s]\n"
     ]
    },
    {
     "name": "stdout",
     "output_type": "stream",
     "text": [
      "training loss: 0.4467, val loss: 0.7530\n",
      "new best validation loss: 0.7530\n"
     ]
    },
    {
     "name": "stderr",
     "output_type": "stream",
     "text": [
      "Epoch: 3/30: 100%|██████████| 1563/1563 [00:09<00:00, 165.86it/s]\n"
     ]
    },
    {
     "name": "stdout",
     "output_type": "stream",
     "text": [
      "training loss: 0.3749, val loss: 0.6245\n",
      "new best validation loss: 0.6245\n"
     ]
    },
    {
     "name": "stderr",
     "output_type": "stream",
     "text": [
      "Epoch: 4/30: 100%|██████████| 1563/1563 [00:11<00:00, 137.78it/s]\n"
     ]
    },
    {
     "name": "stdout",
     "output_type": "stream",
     "text": [
      "training loss: 0.3383, val loss: 0.5802\n",
      "new best validation loss: 0.5802\n"
     ]
    },
    {
     "name": "stderr",
     "output_type": "stream",
     "text": [
      "Epoch: 5/30: 100%|██████████| 1563/1563 [00:10<00:00, 143.38it/s]\n"
     ]
    },
    {
     "name": "stdout",
     "output_type": "stream",
     "text": [
      "training loss: 0.3207, val loss: 0.5410\n",
      "new best validation loss: 0.5410\n"
     ]
    },
    {
     "name": "stderr",
     "output_type": "stream",
     "text": [
      "Epoch: 6/30: 100%|██████████| 1563/1563 [00:11<00:00, 139.48it/s]\n"
     ]
    },
    {
     "name": "stdout",
     "output_type": "stream",
     "text": [
      "training loss: 0.2904, val loss: 0.5697\n",
      "EarlyStopping counter: 1 out of 5\n"
     ]
    },
    {
     "name": "stderr",
     "output_type": "stream",
     "text": [
      "Epoch: 7/30: 100%|██████████| 1563/1563 [00:10<00:00, 152.19it/s]\n"
     ]
    },
    {
     "name": "stdout",
     "output_type": "stream",
     "text": [
      "training loss: 0.2821, val loss: 0.5680\n",
      "EarlyStopping counter: 2 out of 5\n"
     ]
    },
    {
     "name": "stderr",
     "output_type": "stream",
     "text": [
      "Epoch: 8/30: 100%|██████████| 1563/1563 [00:11<00:00, 139.06it/s]\n"
     ]
    },
    {
     "name": "stdout",
     "output_type": "stream",
     "text": [
      "training loss: 0.2754, val loss: 0.5265\n",
      "new best validation loss: 0.5265\n"
     ]
    },
    {
     "name": "stderr",
     "output_type": "stream",
     "text": [
      "Epoch: 9/30: 100%|██████████| 1563/1563 [00:11<00:00, 139.87it/s]\n"
     ]
    },
    {
     "name": "stdout",
     "output_type": "stream",
     "text": [
      "training loss: 0.2646, val loss: 0.5283\n",
      "EarlyStopping counter: 1 out of 5\n"
     ]
    },
    {
     "name": "stderr",
     "output_type": "stream",
     "text": [
      "Epoch: 10/30: 100%|██████████| 1563/1563 [00:10<00:00, 142.92it/s]\n"
     ]
    },
    {
     "name": "stdout",
     "output_type": "stream",
     "text": [
      "training loss: 0.2742, val loss: 0.4829\n",
      "new best validation loss: 0.4829\n"
     ]
    },
    {
     "name": "stderr",
     "output_type": "stream",
     "text": [
      "Epoch: 11/30: 100%|██████████| 1563/1563 [00:11<00:00, 137.40it/s]\n"
     ]
    },
    {
     "name": "stdout",
     "output_type": "stream",
     "text": [
      "training loss: 0.2589, val loss: 0.4995\n",
      "EarlyStopping counter: 1 out of 5\n"
     ]
    },
    {
     "name": "stderr",
     "output_type": "stream",
     "text": [
      "Epoch: 12/30: 100%|██████████| 1563/1563 [00:11<00:00, 132.52it/s]\n"
     ]
    },
    {
     "name": "stdout",
     "output_type": "stream",
     "text": [
      "training loss: 0.2567, val loss: 0.5243\n",
      "EarlyStopping counter: 2 out of 5\n"
     ]
    },
    {
     "name": "stderr",
     "output_type": "stream",
     "text": [
      "Epoch: 13/30: 100%|██████████| 1563/1563 [00:13<00:00, 118.22it/s]\n"
     ]
    },
    {
     "name": "stdout",
     "output_type": "stream",
     "text": [
      "training loss: 0.2539, val loss: 0.5093\n",
      "EarlyStopping counter: 3 out of 5\n"
     ]
    },
    {
     "name": "stderr",
     "output_type": "stream",
     "text": [
      "Epoch: 14/30: 100%|██████████| 1563/1563 [00:11<00:00, 133.22it/s]\n"
     ]
    },
    {
     "name": "stdout",
     "output_type": "stream",
     "text": [
      "training loss: 0.2569, val loss: 0.5445\n",
      "EarlyStopping counter: 4 out of 5\n"
     ]
    },
    {
     "name": "stderr",
     "output_type": "stream",
     "text": [
      "Epoch: 15/30: 100%|██████████| 1563/1563 [00:11<00:00, 131.54it/s]\n"
     ]
    },
    {
     "name": "stdout",
     "output_type": "stream",
     "text": [
      "training loss: 0.2512, val loss: 0.5027\n",
      "EarlyStopping counter: 5 out of 5\n",
      "Early stopping triggered after 15 epochs\n",
      "Loaded best model with validation loss: 0.4829\n"
     ]
    }
   ],
   "source": [
    "cutoff = 50000\n",
    "val_cutoff = int(cutoff*0.25)\n",
    "\n",
    "#train the model on a small amount of data\n",
    "model = train((X_train[:cutoff], y_train[:cutoff]), (X_val[:cutoff], y_val[:cutoff]), 30, patience= 5)"
   ]
  },
  {
   "cell_type": "code",
   "execution_count": 179,
   "metadata": {},
   "outputs": [
    {
     "name": "stdout",
     "output_type": "stream",
     "text": [
      "Model saved successfully\n"
     ]
    }
   ],
   "source": [
    "save_model(model, \"testing_models/model.pt\")"
   ]
  },
  {
   "cell_type": "code",
   "execution_count": 180,
   "metadata": {},
   "outputs": [
    {
     "name": "stdout",
     "output_type": "stream",
     "text": [
      "Avg loss:  0.5383523471248798\n"
     ]
    },
    {
     "data": {
      "text/plain": [
       "0.5383523471248798"
      ]
     },
     "execution_count": 180,
     "metadata": {},
     "output_type": "execute_result"
    }
   ],
   "source": [
    "test((X_test[:10000], y_test[:10000]), model)"
   ]
  },
  {
   "cell_type": "code",
   "execution_count": 197,
   "metadata": {},
   "outputs": [
    {
     "name": "stdout",
     "output_type": "stream",
     "text": [
      "Model loaded successfully\n"
     ]
    }
   ],
   "source": [
    "model = load_model(\"testing_models/model1.pt\")"
   ]
  },
  {
   "cell_type": "code",
   "execution_count": 198,
   "metadata": {},
   "outputs": [
    {
     "name": "stdout",
     "output_type": "stream",
     "text": [
      "Avg loss:  0.5741797078388948\n"
     ]
    },
    {
     "data": {
      "text/plain": [
       "0.5741797078388948"
      ]
     },
     "execution_count": 198,
     "metadata": {},
     "output_type": "execute_result"
    }
   ],
   "source": [
    "test((X_test[:10000], y_test[:10000]), model)"
   ]
  },
  {
   "cell_type": "markdown",
   "metadata": {},
   "source": [
    "get the message features along with other information from the trained model and test data"
   ]
  },
  {
   "cell_type": "code",
   "execution_count": 199,
   "metadata": {},
   "outputs": [],
   "source": [
    "def get_message_features(model, input_data, batch_size=32):\n",
    "    \"\"\"\n",
    "    Make pd.Dataframe of messages and particle information\n",
    "    \n",
    "    Args:\n",
    "        model (NBodyGNN): Trained model\n",
    "        input_data (torch.Tensor): Input data with shape [no_timesteps, no_nodes, node_features]\n",
    "        batch_size (int): Size of batches to process\n",
    "        \n",
    "    Returns:\n",
    "        pd.DataFrame: DataFrame containing node features and message features\n",
    "        numpy.ndarray: just the message features\n",
    "    \"\"\"\n",
    "\n",
    "    model.eval()  \n",
    "    edge_index = get_edge_index(input_data.shape[1])\n",
    "    \n",
    "    # Create dataloader\n",
    "    dataset = TensorDataset(input_data)\n",
    "    dataloader = DataLoader(dataset, batch_size=batch_size, shuffle=False)\n",
    "    \n",
    "    all_message_info = []\n",
    "    \n",
    "    with torch.no_grad():\n",
    "        for (nodes,) in dataloader:\n",
    "            x_i = nodes[:, edge_index[0]]  # Source nodes\n",
    "            x_j = nodes[:, edge_index[1]]  # Target nodes\n",
    "            \n",
    "            x = torch.cat((x_i, x_j), dim=-1)\n",
    "            messages = model.edge_model(x) #put thru edge model\n",
    "            #messages shape is [batch_size, num_edges, 100]\n",
    "            \n",
    "            #combine node features with messages along final axis\n",
    "            message_info = torch.cat((x_i, x_j, messages), dim=-1)\n",
    "            \n",
    "            #reshape batch_messages to be 2D for pandas: [batch_size * num_edges, features]\n",
    "            #batch info and edge info doesnt matter. only related feature info and latent messages\n",
    "            message_info = message_info.reshape(-1, message_info.shape[-1])\n",
    "            all_message_info.append(message_info)\n",
    "    \n",
    "    # Combine all batches\n",
    "    message_info = torch.cat(all_message_info, dim=0)\n",
    "    \n",
    "    # Convert to numpy for DataFrame creation\n",
    "    message_info = message_info.numpy()\n",
    "    \n",
    "    # Create column names\n",
    "    node_info = ['x', 'y', 'delta_x', 'delta_y', 'q', 'm'] #for 2d\n",
    "    source_cols = [f'{f}1' for f in node_info]\n",
    "    target_cols = [f'{f}2' for f in node_info]\n",
    "    message_cols = [f'e{i}' for i in range(messages.shape[-1])]\n",
    "    columns = source_cols + target_cols + message_cols\n",
    "    \n",
    "    # Create DataFrame\n",
    "    message_info = pd.DataFrame(message_info, columns=columns)\n",
    "    \n",
    "    # distances between particles\n",
    "    message_info['x_dist'] = message_info.x1 - message_info.x2\n",
    "    message_info['y_dist'] = message_info.y1 - message_info.y2\n",
    "    message_info['r'] = np.sqrt(message_info.x_dist**2 + message_info.y_dist**2)\n",
    "    \n",
    "    # Calculate relative velocities\n",
    "    message_info['dvx'] = message_info.delta_x1 - message_info.delta_x2\n",
    "    message_info['dvy'] = message_info.delta_y1 - message_info.delta_y2\n",
    "    message_info['v_rel'] = np.sqrt(message_info.dvx**2 + message_info.dvy**2)\n",
    "\n",
    "    message_cols = [col for col in message_info.columns if col.startswith('e')]\n",
    "    message_features = message_info[message_cols].values #shape is [batch_size * num edges, 100]\n",
    "    \n",
    "    return message_info, message_features"
   ]
  },
  {
   "cell_type": "markdown",
   "metadata": {},
   "source": [
    "standard message model (100 outputs). plot the message "
   ]
  },
  {
   "cell_type": "code",
   "execution_count": 200,
   "metadata": {},
   "outputs": [],
   "source": [
    "def get_important_features(message_features):\n",
    "    \"\"\"get most important (top 2) features (standard) by measuring variance over all data\n",
    "\n",
    "    Args:\n",
    "        message_features (numpy.ndarray): just the message features. of shape [datapoints, 100]\n",
    "\n",
    "    Returns:\n",
    "        numpy.ndarray: most important two messages. of shape [datapoints, 2]\n",
    "    \"\"\"\n",
    "    std = message_features.std(axis = 0)\n",
    "    important_elements = np.argsort(std)[-2:]\n",
    "    return message_features[:, important_elements]"
   ]
  },
  {
   "cell_type": "code",
   "execution_count": 201,
   "metadata": {},
   "outputs": [],
   "source": [
    "def get_force(message_info, sim = 'r1'):\n",
    "    \"\"\"\n",
    "    get forces for the different simulations\n",
    "    \"\"\"\n",
    "    x_dist = message_info['x_dist']\n",
    "    y_dist = message_info['y_dist']\n",
    "    r = message_info['r']\n",
    "    m1m2 = message_info['m1'] * message_info['m2']\n",
    "    eps = 1e-6\n",
    "    if sim == 'r1':\n",
    "        f = - m1m2 / (r*r + eps)\n",
    "        f_x = f * x_dist / (r+eps)\n",
    "        f_y = f * y_dist / (r+eps)\n",
    "    return np.array(f), np.array(f_x), np.array(f_y)\n"
   ]
  },
  {
   "cell_type": "markdown",
   "metadata": {},
   "source": [
    "use the test data to get the messages"
   ]
  },
  {
   "cell_type": "code",
   "execution_count": 236,
   "metadata": {},
   "outputs": [],
   "source": [
    "N = 10000\n",
    "np.random.seed(290402)\n",
    "rand_idx = np.random.choice(len(X_test), size = N, replace = False) #use random N points on the test data\n",
    "X_test_rand = X_test[rand_idx]\n",
    "message_info, message_features = get_message_features(model, X_test_rand)"
   ]
  },
  {
   "cell_type": "markdown",
   "metadata": {},
   "source": [
    "get the best messages and force information"
   ]
  },
  {
   "cell_type": "code",
   "execution_count": null,
   "metadata": {},
   "outputs": [
    {
     "data": {
      "text/plain": [
       "array([ 0.18012953, -0.12717265,  0.14277136, ...,  0.12081133,\n",
       "        0.15998387,  0.58428156], shape=(60000,), dtype=float32)"
      ]
     },
     "execution_count": 226,
     "metadata": {},
     "output_type": "execute_result"
    }
   ],
   "source": [
    "best_messages = get_important_features(message_features)\n",
    "_, fx, fy = get_force(message_info)"
   ]
  },
  {
   "cell_type": "markdown",
   "metadata": {},
   "source": [
    "fit linear combination of forces to messsage components-linear regression tings"
   ]
  },
  {
   "cell_type": "code",
   "execution_count": 229,
   "metadata": {},
   "outputs": [],
   "source": [
    "from sklearn.linear_model import LinearRegression\n",
    "\n",
    "\n",
    "#currently removing percentage outliers for fitting\n",
    "#is this ok? who knows - probably change this when can train the model more later\n",
    "def remove_outliers(fx, fy, best_messages, perc):\n",
    "    lower_bound_x = np.percentile(fx, perc)\n",
    "    upper_bound_x = np.percentile(fx, 100 - perc)\n",
    "    \n",
    "    # Calculate percentile bounds for fy\n",
    "    lower_bound_y = np.percentile(fy, perc)\n",
    "    upper_bound_y = np.percentile(fy, 100 - perc)\n",
    "    \n",
    "    # Create masks for each array\n",
    "    mask_x = (fx >= lower_bound_x) & (fx <= upper_bound_x)\n",
    "    mask_y = (fy >= lower_bound_y) & (fy <= upper_bound_y)\n",
    "    \n",
    "    # Combined mask - keep only points where both fx and fy are not outliers\n",
    "    combined_mask = mask_x & mask_y\n",
    "\n",
    "    fx_clean = fx[combined_mask]\n",
    "    fy_clean = fy[combined_mask]\n",
    "    best_messages_clean = best_messages[combined_mask, :]\n",
    "\n",
    "\n",
    "    return fx_clean, fy_clean, best_messages_clean\n",
    "\n",
    "\n",
    "def fit_coefficients(message_elem, fx, fy):\n",
    "    \"\"\"\n",
    "    Fit coefficients for linear combination of forces\n",
    "    Returns a, b coefficients for a*fx + b*fy\n",
    "    \"\"\"\n",
    "    X = np.column_stack([fx, fy])\n",
    "    lin_reg = LinearRegression()\n",
    "    lin_reg.fit(X, message_elem)\n",
    "    return lin_reg.coef_[0], lin_reg.coef_[1]"
   ]
  },
  {
   "cell_type": "markdown",
   "metadata": {},
   "source": [
    "cut away the outliers when plotting -is this ok?"
   ]
  },
  {
   "cell_type": "code",
   "execution_count": 237,
   "metadata": {},
   "outputs": [],
   "source": [
    "fx_c, fy_c, best_messages_c = remove_outliers(fx, fy, best_messages, perc=1)"
   ]
  },
  {
   "cell_type": "code",
   "execution_count": 238,
   "metadata": {},
   "outputs": [],
   "source": [
    "a,b = fit_coefficients(best_messages_c[:,0], fx_c, fy_c)\n",
    "c,d = fit_coefficients(best_messages_c[:,1], fx_c, fy_c)"
   ]
  },
  {
   "cell_type": "code",
   "execution_count": 239,
   "metadata": {},
   "outputs": [],
   "source": [
    "import matplotlib.pyplot as plt"
   ]
  },
  {
   "cell_type": "code",
   "execution_count": null,
   "metadata": {},
   "outputs": [
    {
     "data": {
      "text/plain": [
       "<matplotlib.legend.Legend at 0x7f180e2fdba0>"
      ]
     },
     "execution_count": 243,
     "metadata": {},
     "output_type": "execute_result"
    },
    {
     "data": {
      "image/png": "[encoded data removed]",
      "text/plain": [
       "<Figure size 640x480 with 1 Axes>"
      ]
     },
     "metadata": {},
     "output_type": "display_data"
    }
   ],
   "source": [
    "lin_combo1 = a*fx_c +b*fy_c\n",
    "plt.plot(lin_combo1, best_messages_c[:,0], 'o', markersize = '0.5', label = f\"{a:.2g} Fx + {b:.2g} Fy\")\n",
    "plt.grid()\n",
    "plt.xlabel(f\"Linear combination of forces\")\n",
    "plt.ylabel(f\"Message element 1\")\n",
    "plt.legend()\n",
    "#plt.xlim(-1,1)\n",
    "# plt.ylim(-0.1,0.1)"
   ]
  },
  {
   "cell_type": "code",
   "execution_count": 247,
   "metadata": {},
   "outputs": [
    {
     "data": {
      "text/plain": [
       "Text(0, 0.5, 'Message element 2')"
      ]
     },
     "execution_count": 247,
     "metadata": {},
     "output_type": "execute_result"
    },
    {
     "data": {
      "image/png": "[encoded data removed]",
      "text/plain": [
       "<Figure size 640x480 with 1 Axes>"
      ]
     },
     "metadata": {},
     "output_type": "display_data"
    }
   ],
   "source": [
    "lin_combo2 = c*fx_c +d*fy_c\n",
    "plt.plot(lin_combo2, best_messages_c[:,1], 'o', markersize = '0.5', label = f\"{c:.2g} Fx + {d:.2g} Fy\")\n",
    "plt.grid()\n",
    "plt.legend()\n",
    "plt.xlabel(f\"Linear combination of forces\")\n",
    "plt.ylabel(f\"Message element 2\")\n",
    "#plt.xlim(-0.1,0.1)\n",
    "#plt.ylim(-1,1)"
   ]
  },
  {
   "cell_type": "markdown",
   "metadata": {},
   "source": [
    "Do these coefficients make sense? It seems that there is a very small coefficient for the Fy component in the first plot"
   ]
  },
  {
   "cell_type": "code",
   "execution_count": 235,
   "metadata": {},
   "outputs": [
    {
     "name": "stdout",
     "output_type": "stream",
     "text": [
      "coefficients\n",
      "-0.050454434 -4.7476053e-05 -0.053697977 -0.00170461\n"
     ]
    }
   ],
   "source": [
    "print('coefficients')\n",
    "print(a,b,c,d)"
   ]
  },
  {
   "cell_type": "code",
   "execution_count": null,
   "metadata": {},
   "outputs": [],
   "source": []
  }
 ],
 "metadata": {
  "kernelspec": {
   "display_name": ".venv",
   "language": "python",
   "name": "python3"
  },
  "language_info": {
   "codemirror_mode": {
    "name": "ipython",
    "version": 3
   },
   "file_extension": ".py",
   "mimetype": "text/x-python",
   "name": "python",
   "nbconvert_exporter": "python",
   "pygments_lexer": "ipython3",
   "version": "3.10.16"
  }
 },
 "nbformat": 4,
 "nbformat_minor": 2
}
