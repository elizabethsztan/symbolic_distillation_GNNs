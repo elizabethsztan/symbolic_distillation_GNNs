{
 "cells": [
  {
   "cell_type": "markdown",
   "metadata": {},
   "source": [
    "## Measuring the latent representations: activations of the message functions"
   ]
  },
  {
   "cell_type": "code",
   "execution_count": 45,
   "metadata": {},
   "outputs": [],
   "source": [
    "import sys\n",
    "import os\n",
    "\n",
    "parent_dir = os.path.abspath(os.path.join(os.getcwd(), '..'))\n",
    "sys.path.append(parent_dir)\n",
    "\n",
    "from model import *\n",
    "from sklearn.model_selection import train_test_split\n",
    "import pandas as pd\n",
    "import numpy as np\n",
    "import torch\n",
    "from torch.utils.data import DataLoader, TensorDataset"
   ]
  },
  {
   "cell_type": "code",
   "execution_count": 46,
   "metadata": {},
   "outputs": [],
   "source": [
    "#load the data\n",
    "data = load_data('../simulations/datasets/r1_n=3_dim=2_nt=1000_dt=0.005')\n",
    "X, y = data\n",
    "\n",
    "#make train, test, val sets\n",
    "X_train, X_test, y_train, y_test = train_test_split(X, y, shuffle=False)\n",
    "X_test, X_val, y_test, y_val = train_test_split(X_test, y_test, shuffle=False)"
   ]
  },
  {
   "cell_type": "code",
   "execution_count": 47,
   "metadata": {},
   "outputs": [
    {
     "name": "stderr",
     "output_type": "stream",
     "text": [
      "Epoch: 1/25: 100%|██████████| 313/313 [00:02<00:00, 124.26it/s]\n"
     ]
    },
    {
     "name": "stdout",
     "output_type": "stream",
     "text": [
      "training loss: 0.9895, val loss: 1.6207\n"
     ]
    },
    {
     "name": "stderr",
     "output_type": "stream",
     "text": [
      "Epoch: 2/25: 100%|██████████| 313/313 [00:01<00:00, 204.11it/s]\n"
     ]
    },
    {
     "name": "stdout",
     "output_type": "stream",
     "text": [
      "training loss: 0.7332, val loss: 1.4217\n"
     ]
    },
    {
     "name": "stderr",
     "output_type": "stream",
     "text": [
      "Epoch: 3/25: 100%|██████████| 313/313 [00:01<00:00, 176.78it/s]\n"
     ]
    },
    {
     "name": "stdout",
     "output_type": "stream",
     "text": [
      "training loss: 0.5988, val loss: 1.2005\n"
     ]
    },
    {
     "name": "stderr",
     "output_type": "stream",
     "text": [
      "Epoch: 4/25: 100%|██████████| 313/313 [00:02<00:00, 148.23it/s]\n"
     ]
    },
    {
     "name": "stdout",
     "output_type": "stream",
     "text": [
      "training loss: 0.4662, val loss: 1.0629\n"
     ]
    },
    {
     "name": "stderr",
     "output_type": "stream",
     "text": [
      "Epoch: 5/25: 100%|██████████| 313/313 [00:02<00:00, 152.84it/s]\n"
     ]
    },
    {
     "name": "stdout",
     "output_type": "stream",
     "text": [
      "training loss: 0.4453, val loss: 1.0125\n"
     ]
    },
    {
     "name": "stderr",
     "output_type": "stream",
     "text": [
      "Epoch: 6/25: 100%|██████████| 313/313 [00:02<00:00, 131.65it/s]\n"
     ]
    },
    {
     "name": "stdout",
     "output_type": "stream",
     "text": [
      "training loss: 0.3608, val loss: 0.8514\n"
     ]
    },
    {
     "name": "stderr",
     "output_type": "stream",
     "text": [
      "Epoch: 7/25: 100%|██████████| 313/313 [00:03<00:00, 81.50it/s] \n"
     ]
    },
    {
     "name": "stdout",
     "output_type": "stream",
     "text": [
      "training loss: 0.3230, val loss: 0.8385\n"
     ]
    },
    {
     "name": "stderr",
     "output_type": "stream",
     "text": [
      "Epoch: 8/25: 100%|██████████| 313/313 [00:03<00:00, 100.04it/s]\n"
     ]
    },
    {
     "name": "stdout",
     "output_type": "stream",
     "text": [
      "training loss: 0.3334, val loss: 0.7555\n"
     ]
    },
    {
     "name": "stderr",
     "output_type": "stream",
     "text": [
      "Epoch: 9/25: 100%|██████████| 313/313 [00:02<00:00, 106.43it/s]\n"
     ]
    },
    {
     "name": "stdout",
     "output_type": "stream",
     "text": [
      "training loss: 0.2873, val loss: 0.6789\n"
     ]
    },
    {
     "name": "stderr",
     "output_type": "stream",
     "text": [
      "Epoch: 10/25: 100%|██████████| 313/313 [00:02<00:00, 125.60it/s]\n"
     ]
    },
    {
     "name": "stdout",
     "output_type": "stream",
     "text": [
      "training loss: 0.2542, val loss: 0.7638\n"
     ]
    },
    {
     "name": "stderr",
     "output_type": "stream",
     "text": [
      "Epoch: 11/25: 100%|██████████| 313/313 [00:02<00:00, 116.44it/s]\n"
     ]
    },
    {
     "name": "stdout",
     "output_type": "stream",
     "text": [
      "training loss: 0.2610, val loss: 0.7272\n"
     ]
    },
    {
     "name": "stderr",
     "output_type": "stream",
     "text": [
      "Epoch: 12/25: 100%|██████████| 313/313 [00:02<00:00, 127.49it/s]\n"
     ]
    },
    {
     "name": "stdout",
     "output_type": "stream",
     "text": [
      "training loss: 0.2483, val loss: 0.6716\n"
     ]
    },
    {
     "name": "stderr",
     "output_type": "stream",
     "text": [
      "Epoch: 13/25: 100%|██████████| 313/313 [00:02<00:00, 143.09it/s]\n"
     ]
    },
    {
     "name": "stdout",
     "output_type": "stream",
     "text": [
      "training loss: 0.2402, val loss: 0.8347\n"
     ]
    },
    {
     "name": "stderr",
     "output_type": "stream",
     "text": [
      "Epoch: 14/25: 100%|██████████| 313/313 [00:02<00:00, 154.32it/s]\n"
     ]
    },
    {
     "name": "stdout",
     "output_type": "stream",
     "text": [
      "training loss: 0.2399, val loss: 0.6345\n"
     ]
    },
    {
     "name": "stderr",
     "output_type": "stream",
     "text": [
      "Epoch: 15/25: 100%|██████████| 313/313 [00:02<00:00, 134.08it/s]\n"
     ]
    },
    {
     "name": "stdout",
     "output_type": "stream",
     "text": [
      "training loss: 0.2510, val loss: 0.8689\n"
     ]
    },
    {
     "name": "stderr",
     "output_type": "stream",
     "text": [
      "Epoch: 16/25: 100%|██████████| 313/313 [00:02<00:00, 151.72it/s]\n"
     ]
    },
    {
     "name": "stdout",
     "output_type": "stream",
     "text": [
      "training loss: 0.2456, val loss: 0.6652\n"
     ]
    },
    {
     "name": "stderr",
     "output_type": "stream",
     "text": [
      "Epoch: 17/25: 100%|██████████| 313/313 [00:02<00:00, 139.94it/s]\n"
     ]
    },
    {
     "name": "stdout",
     "output_type": "stream",
     "text": [
      "training loss: 0.2365, val loss: 0.5629\n"
     ]
    },
    {
     "name": "stderr",
     "output_type": "stream",
     "text": [
      "Epoch: 18/25: 100%|██████████| 313/313 [00:02<00:00, 112.16it/s]\n"
     ]
    },
    {
     "name": "stdout",
     "output_type": "stream",
     "text": [
      "training loss: 0.2021, val loss: 0.6641\n"
     ]
    },
    {
     "name": "stderr",
     "output_type": "stream",
     "text": [
      "Epoch: 19/25: 100%|██████████| 313/313 [00:02<00:00, 140.77it/s]\n"
     ]
    },
    {
     "name": "stdout",
     "output_type": "stream",
     "text": [
      "training loss: 0.2127, val loss: 0.5739\n"
     ]
    },
    {
     "name": "stderr",
     "output_type": "stream",
     "text": [
      "Epoch: 20/25: 100%|██████████| 313/313 [00:02<00:00, 122.09it/s]\n"
     ]
    },
    {
     "name": "stdout",
     "output_type": "stream",
     "text": [
      "training loss: 0.2016, val loss: 0.6459\n"
     ]
    },
    {
     "name": "stderr",
     "output_type": "stream",
     "text": [
      "Epoch: 21/25: 100%|██████████| 313/313 [00:03<00:00, 85.85it/s] \n"
     ]
    },
    {
     "name": "stdout",
     "output_type": "stream",
     "text": [
      "training loss: 0.2020, val loss: 0.9208\n"
     ]
    },
    {
     "name": "stderr",
     "output_type": "stream",
     "text": [
      "Epoch: 22/25: 100%|██████████| 313/313 [00:03<00:00, 97.43it/s] \n"
     ]
    },
    {
     "name": "stdout",
     "output_type": "stream",
     "text": [
      "training loss: 0.2099, val loss: 0.7015\n"
     ]
    },
    {
     "name": "stderr",
     "output_type": "stream",
     "text": [
      "Epoch: 23/25: 100%|██████████| 313/313 [00:07<00:00, 43.02it/s]\n"
     ]
    },
    {
     "name": "stdout",
     "output_type": "stream",
     "text": [
      "training loss: 0.2012, val loss: 0.6841\n"
     ]
    },
    {
     "name": "stderr",
     "output_type": "stream",
     "text": [
      "Epoch: 24/25: 100%|██████████| 313/313 [00:02<00:00, 106.10it/s]\n"
     ]
    },
    {
     "name": "stdout",
     "output_type": "stream",
     "text": [
      "training loss: 0.1931, val loss: 0.5807\n"
     ]
    },
    {
     "name": "stderr",
     "output_type": "stream",
     "text": [
      "Epoch: 25/25: 100%|██████████| 313/313 [00:03<00:00, 78.34it/s]\n"
     ]
    },
    {
     "name": "stdout",
     "output_type": "stream",
     "text": [
      "training loss: 0.2214, val loss: 0.5969\n"
     ]
    }
   ],
   "source": [
    "cutoff = 10000\n",
    "val_cutoff = 2500\n",
    "\n",
    "#train the model on a small amount of data\n",
    "model = train((X_train[:cutoff], y_train[:cutoff]), (X_val[:cutoff], y_val[:cutoff]), 25)"
   ]
  },
  {
   "cell_type": "code",
   "execution_count": 60,
   "metadata": {},
   "outputs": [
    {
     "data": {
      "text/plain": [
       "<torch.utils.data.dataset.TensorDataset at 0x7fe241937d00>"
      ]
     },
     "execution_count": 60,
     "metadata": {},
     "output_type": "execute_result"
    }
   ],
   "source": [
    "TensorDataset(X_test)"
   ]
  },
  {
   "cell_type": "code",
   "execution_count": 92,
   "metadata": {},
   "outputs": [
    {
     "name": "stdout",
     "output_type": "stream",
     "text": [
      "torch.Size([1, 6, 100])\n",
      "torch.Size([1, 6, 112])\n"
     ]
    }
   ],
   "source": [
    "dataloader = DataLoader(TensorDataset(X_test[:1]), batch_size=1, shuffle=False)\n",
    "edge_index = get_edge_index(X_test.shape[1])\n",
    "#print(edge_index)\n",
    "tmp = 0\n",
    "for (nodes,) in dataloader:\n",
    "    s1 = nodes[:, edge_index[0]]\n",
    "    #print(s1)\n",
    "    s2 = nodes[:, edge_index[1]]\n",
    "    edge_features = torch.cat((s1, s2), dim=-1)\n",
    "    messages = model.edge_model(edge_features)\n",
    "    print(messages.shape)\n",
    "    batch_messages = torch.cat((s1, s2, messages), dim=-1)\n",
    "    print(batch_messages.shape)\n",
    "    "
   ]
  },
  {
   "cell_type": "code",
   "execution_count": null,
   "metadata": {},
   "outputs": [],
   "source": [
    "def get_message_features(model, input_data, batch_size=32):\n",
    "    \"\"\"\n",
    "    Make pd.Dataframe of messages and particle information\n",
    "    \n",
    "    Args:\n",
    "        model (NBodyGNN): Trained model\n",
    "        input_data (torch.Tensor): Input data with shape [no_timesteps, no_nodes, node_features]\n",
    "        batch_size (int): Size of batches to process\n",
    "        \n",
    "    Returns:\n",
    "        pd.DataFrame: DataFrame containing node features and message information\n",
    "    \"\"\"\n",
    "\n",
    "    model.eval()  \n",
    "    edge_index = get_edge_index(input_data.shape[1])\n",
    "    \n",
    "    # Create dataloader\n",
    "    dataset = TensorDataset(input_data)\n",
    "    dataloader = DataLoader(dataset, batch_size=batch_size, shuffle=False)\n",
    "    \n",
    "    all_message_info = []\n",
    "    \n",
    "    with torch.no_grad():\n",
    "        for (nodes,) in dataloader:\n",
    "            x_i = nodes[:, edge_index[0]]  # Source nodes\n",
    "            x_j = nodes[:, edge_index[1]]  # Target nodes\n",
    "            \n",
    "            x = torch.cat((x_i, x_j), dim=-1)\n",
    "            messages = model.edge_model(x) #put thru edge model\n",
    "            #messages shape is [batch_size, num_edges, 100]\n",
    "            \n",
    "            #combine node features with messages along final axis\n",
    "            message_info = torch.cat((x_i, x_j, messages), dim=-1)\n",
    "            \n",
    "            #reshape batch_messages to be 2D for pandas: [batch_size * num_edges, features]\n",
    "            #batch info and edge info doesnt matter. only related feature info and latent messages\n",
    "            message_info = message_info.reshape(-1, message_info.shape[-1])\n",
    "            all_message_info.append(message_info)\n",
    "    \n",
    "    # Combine all batches\n",
    "    message_features = torch.cat(all_message_info, dim=0)\n",
    "    \n",
    "    # Convert to numpy for DataFrame creation\n",
    "    message_features = message_features.numpy()\n",
    "    \n",
    "    # Create column names\n",
    "    node_info = ['x', 'y', 'delta_x', 'delta_y', 'q', 'm'] #for 2d\n",
    "    source_cols = [f'{f}1' for f in node_info]\n",
    "    target_cols = [f'{f}2' for f in node_info]\n",
    "    message_cols = [f'e{i}' for i in range(messages.shape[-1])]\n",
    "    columns = source_cols + target_cols + message_cols\n",
    "    \n",
    "    # Create DataFrame\n",
    "    message_info = pd.DataFrame(message_features, columns=columns)\n",
    "    \n",
    "    # distances between particles\n",
    "    message_info['x_dist'] = message_info.x1 - message_info.x2\n",
    "    message_info['y_dist'] = message_info.y1 - message_info.y2\n",
    "    message_info['r'] = np.sqrt(message_info.x_dist**2 + message_info.y_dist**2)\n",
    "    \n",
    "    # Calculate relative velocities\n",
    "    message_info['dvx'] = message_info.delta_x1 - message_info.delta_x2\n",
    "    message_info['dvy'] = message_info.delta_y1 - message_info.delta_y2\n",
    "    message_info['v_rel'] = np.sqrt(message_info.dvx**2 + message_info.dvy**2)\n",
    "    \n",
    "    return message_info"
   ]
  },
  {
   "cell_type": "code",
   "execution_count": 103,
   "metadata": {},
   "outputs": [
    {
     "data": {
      "text/html": [
       "<div>\n",
       "<style scoped>\n",
       "    .dataframe tbody tr th:only-of-type {\n",
       "        vertical-align: middle;\n",
       "    }\n",
       "\n",
       "    .dataframe tbody tr th {\n",
       "        vertical-align: top;\n",
       "    }\n",
       "\n",
       "    .dataframe thead th {\n",
       "        text-align: right;\n",
       "    }\n",
       "</style>\n",
       "<table border=\"1\" class=\"dataframe\">\n",
       "  <thead>\n",
       "    <tr style=\"text-align: right;\">\n",
       "      <th></th>\n",
       "      <th>x1</th>\n",
       "      <th>y1</th>\n",
       "      <th>delta_x1</th>\n",
       "      <th>delta_y1</th>\n",
       "      <th>q1</th>\n",
       "      <th>m1</th>\n",
       "      <th>x2</th>\n",
       "      <th>y2</th>\n",
       "      <th>delta_x2</th>\n",
       "      <th>delta_y2</th>\n",
       "      <th>...</th>\n",
       "      <th>e96</th>\n",
       "      <th>e97</th>\n",
       "      <th>e98</th>\n",
       "      <th>e99</th>\n",
       "      <th>x_dist</th>\n",
       "      <th>y_dist</th>\n",
       "      <th>r</th>\n",
       "      <th>dvx</th>\n",
       "      <th>dvy</th>\n",
       "      <th>v_rel</th>\n",
       "    </tr>\n",
       "  </thead>\n",
       "  <tbody>\n",
       "    <tr>\n",
       "      <th>0</th>\n",
       "      <td>1.108470</td>\n",
       "      <td>-3.027177</td>\n",
       "      <td>-0.107625</td>\n",
       "      <td>-0.693829</td>\n",
       "      <td>-0.871233</td>\n",
       "      <td>1.801894</td>\n",
       "      <td>1.019855</td>\n",
       "      <td>-3.755330</td>\n",
       "      <td>0.474216</td>\n",
       "      <td>-1.642119</td>\n",
       "      <td>...</td>\n",
       "      <td>-0.046022</td>\n",
       "      <td>0.096742</td>\n",
       "      <td>-0.184472</td>\n",
       "      <td>0.265260</td>\n",
       "      <td>0.088615</td>\n",
       "      <td>0.728153</td>\n",
       "      <td>0.733526</td>\n",
       "      <td>-0.581841</td>\n",
       "      <td>0.948290</td>\n",
       "      <td>1.112561</td>\n",
       "    </tr>\n",
       "    <tr>\n",
       "      <th>1</th>\n",
       "      <td>1.108470</td>\n",
       "      <td>-3.027177</td>\n",
       "      <td>-0.107625</td>\n",
       "      <td>-0.693829</td>\n",
       "      <td>-0.871233</td>\n",
       "      <td>1.801894</td>\n",
       "      <td>2.941403</td>\n",
       "      <td>-0.552212</td>\n",
       "      <td>2.070446</td>\n",
       "      <td>-1.332116</td>\n",
       "      <td>...</td>\n",
       "      <td>-0.019179</td>\n",
       "      <td>-0.046165</td>\n",
       "      <td>0.066972</td>\n",
       "      <td>0.071643</td>\n",
       "      <td>-1.832933</td>\n",
       "      <td>-2.474966</td>\n",
       "      <td>3.079789</td>\n",
       "      <td>-2.178071</td>\n",
       "      <td>0.638288</td>\n",
       "      <td>2.269670</td>\n",
       "    </tr>\n",
       "    <tr>\n",
       "      <th>2</th>\n",
       "      <td>1.019855</td>\n",
       "      <td>-3.755330</td>\n",
       "      <td>0.474216</td>\n",
       "      <td>-1.642119</td>\n",
       "      <td>-1.288934</td>\n",
       "      <td>1.142944</td>\n",
       "      <td>1.108470</td>\n",
       "      <td>-3.027177</td>\n",
       "      <td>-0.107625</td>\n",
       "      <td>-0.693829</td>\n",
       "      <td>...</td>\n",
       "      <td>-0.232747</td>\n",
       "      <td>-0.458506</td>\n",
       "      <td>0.470316</td>\n",
       "      <td>0.406838</td>\n",
       "      <td>-0.088615</td>\n",
       "      <td>-0.728153</td>\n",
       "      <td>0.733526</td>\n",
       "      <td>0.581841</td>\n",
       "      <td>-0.948290</td>\n",
       "      <td>1.112561</td>\n",
       "    </tr>\n",
       "    <tr>\n",
       "      <th>3</th>\n",
       "      <td>1.019855</td>\n",
       "      <td>-3.755330</td>\n",
       "      <td>0.474216</td>\n",
       "      <td>-1.642119</td>\n",
       "      <td>-1.288934</td>\n",
       "      <td>1.142944</td>\n",
       "      <td>2.941403</td>\n",
       "      <td>-0.552212</td>\n",
       "      <td>2.070446</td>\n",
       "      <td>-1.332116</td>\n",
       "      <td>...</td>\n",
       "      <td>-0.015118</td>\n",
       "      <td>-0.045306</td>\n",
       "      <td>0.060357</td>\n",
       "      <td>0.068809</td>\n",
       "      <td>-1.921548</td>\n",
       "      <td>-3.203119</td>\n",
       "      <td>3.735280</td>\n",
       "      <td>-1.596229</td>\n",
       "      <td>-0.310002</td>\n",
       "      <td>1.626053</td>\n",
       "    </tr>\n",
       "    <tr>\n",
       "      <th>4</th>\n",
       "      <td>2.941403</td>\n",
       "      <td>-0.552212</td>\n",
       "      <td>2.070446</td>\n",
       "      <td>-1.332116</td>\n",
       "      <td>0.595053</td>\n",
       "      <td>0.623231</td>\n",
       "      <td>1.108470</td>\n",
       "      <td>-3.027177</td>\n",
       "      <td>-0.107625</td>\n",
       "      <td>-0.693829</td>\n",
       "      <td>...</td>\n",
       "      <td>0.093666</td>\n",
       "      <td>0.022980</td>\n",
       "      <td>-0.046237</td>\n",
       "      <td>0.199105</td>\n",
       "      <td>1.832933</td>\n",
       "      <td>2.474966</td>\n",
       "      <td>3.079789</td>\n",
       "      <td>2.178071</td>\n",
       "      <td>-0.638288</td>\n",
       "      <td>2.269670</td>\n",
       "    </tr>\n",
       "    <tr>\n",
       "      <th>...</th>\n",
       "      <td>...</td>\n",
       "      <td>...</td>\n",
       "      <td>...</td>\n",
       "      <td>...</td>\n",
       "      <td>...</td>\n",
       "      <td>...</td>\n",
       "      <td>...</td>\n",
       "      <td>...</td>\n",
       "      <td>...</td>\n",
       "      <td>...</td>\n",
       "      <td>...</td>\n",
       "      <td>...</td>\n",
       "      <td>...</td>\n",
       "      <td>...</td>\n",
       "      <td>...</td>\n",
       "      <td>...</td>\n",
       "      <td>...</td>\n",
       "      <td>...</td>\n",
       "      <td>...</td>\n",
       "      <td>...</td>\n",
       "      <td>...</td>\n",
       "    </tr>\n",
       "    <tr>\n",
       "      <th>2995</th>\n",
       "      <td>1.490004</td>\n",
       "      <td>0.604459</td>\n",
       "      <td>0.959115</td>\n",
       "      <td>1.252741</td>\n",
       "      <td>0.495583</td>\n",
       "      <td>1.296262</td>\n",
       "      <td>0.835605</td>\n",
       "      <td>0.783813</td>\n",
       "      <td>-0.987951</td>\n",
       "      <td>-0.009257</td>\n",
       "      <td>...</td>\n",
       "      <td>0.285503</td>\n",
       "      <td>-0.021025</td>\n",
       "      <td>0.002730</td>\n",
       "      <td>0.270177</td>\n",
       "      <td>0.654399</td>\n",
       "      <td>-0.179354</td>\n",
       "      <td>0.678532</td>\n",
       "      <td>1.947065</td>\n",
       "      <td>1.261998</td>\n",
       "      <td>2.320281</td>\n",
       "    </tr>\n",
       "    <tr>\n",
       "      <th>2996</th>\n",
       "      <td>-1.636888</td>\n",
       "      <td>1.912824</td>\n",
       "      <td>-0.466934</td>\n",
       "      <td>0.984240</td>\n",
       "      <td>1.361227</td>\n",
       "      <td>0.673946</td>\n",
       "      <td>1.490004</td>\n",
       "      <td>0.604459</td>\n",
       "      <td>0.959115</td>\n",
       "      <td>1.252741</td>\n",
       "      <td>...</td>\n",
       "      <td>-0.096031</td>\n",
       "      <td>-0.058165</td>\n",
       "      <td>0.050241</td>\n",
       "      <td>0.090458</td>\n",
       "      <td>-3.126891</td>\n",
       "      <td>1.308365</td>\n",
       "      <td>3.389582</td>\n",
       "      <td>-1.426049</td>\n",
       "      <td>-0.268502</td>\n",
       "      <td>1.451106</td>\n",
       "    </tr>\n",
       "    <tr>\n",
       "      <th>2997</th>\n",
       "      <td>-1.636888</td>\n",
       "      <td>1.912824</td>\n",
       "      <td>-0.466934</td>\n",
       "      <td>0.984240</td>\n",
       "      <td>1.361227</td>\n",
       "      <td>0.673946</td>\n",
       "      <td>0.835605</td>\n",
       "      <td>0.783813</td>\n",
       "      <td>-0.987951</td>\n",
       "      <td>-0.009257</td>\n",
       "      <td>...</td>\n",
       "      <td>-0.114815</td>\n",
       "      <td>-0.054776</td>\n",
       "      <td>0.035625</td>\n",
       "      <td>0.088639</td>\n",
       "      <td>-2.472492</td>\n",
       "      <td>1.129011</td>\n",
       "      <td>2.718066</td>\n",
       "      <td>0.521016</td>\n",
       "      <td>0.993497</td>\n",
       "      <td>1.121826</td>\n",
       "    </tr>\n",
       "    <tr>\n",
       "      <th>2998</th>\n",
       "      <td>0.835605</td>\n",
       "      <td>0.783813</td>\n",
       "      <td>-0.987951</td>\n",
       "      <td>-0.009257</td>\n",
       "      <td>-1.039976</td>\n",
       "      <td>1.101690</td>\n",
       "      <td>1.490004</td>\n",
       "      <td>0.604459</td>\n",
       "      <td>0.959115</td>\n",
       "      <td>1.252741</td>\n",
       "      <td>...</td>\n",
       "      <td>-0.493235</td>\n",
       "      <td>-0.202894</td>\n",
       "      <td>0.138584</td>\n",
       "      <td>0.229762</td>\n",
       "      <td>-0.654399</td>\n",
       "      <td>0.179354</td>\n",
       "      <td>0.678532</td>\n",
       "      <td>-1.947065</td>\n",
       "      <td>-1.261998</td>\n",
       "      <td>2.320281</td>\n",
       "    </tr>\n",
       "    <tr>\n",
       "      <th>2999</th>\n",
       "      <td>0.835605</td>\n",
       "      <td>0.783813</td>\n",
       "      <td>-0.987951</td>\n",
       "      <td>-0.009257</td>\n",
       "      <td>-1.039976</td>\n",
       "      <td>1.101690</td>\n",
       "      <td>-1.636888</td>\n",
       "      <td>1.912824</td>\n",
       "      <td>-0.466934</td>\n",
       "      <td>0.984240</td>\n",
       "      <td>...</td>\n",
       "      <td>0.073987</td>\n",
       "      <td>-0.022883</td>\n",
       "      <td>0.020342</td>\n",
       "      <td>0.055981</td>\n",
       "      <td>2.472492</td>\n",
       "      <td>-1.129011</td>\n",
       "      <td>2.718066</td>\n",
       "      <td>-0.521016</td>\n",
       "      <td>-0.993497</td>\n",
       "      <td>1.121826</td>\n",
       "    </tr>\n",
       "  </tbody>\n",
       "</table>\n",
       "<p>3000 rows × 118 columns</p>\n",
       "</div>"
      ],
      "text/plain": [
       "            x1        y1  delta_x1  delta_y1        q1        m1        x2  \\\n",
       "0     1.108470 -3.027177 -0.107625 -0.693829 -0.871233  1.801894  1.019855   \n",
       "1     1.108470 -3.027177 -0.107625 -0.693829 -0.871233  1.801894  2.941403   \n",
       "2     1.019855 -3.755330  0.474216 -1.642119 -1.288934  1.142944  1.108470   \n",
       "3     1.019855 -3.755330  0.474216 -1.642119 -1.288934  1.142944  2.941403   \n",
       "4     2.941403 -0.552212  2.070446 -1.332116  0.595053  0.623231  1.108470   \n",
       "...        ...       ...       ...       ...       ...       ...       ...   \n",
       "2995  1.490004  0.604459  0.959115  1.252741  0.495583  1.296262  0.835605   \n",
       "2996 -1.636888  1.912824 -0.466934  0.984240  1.361227  0.673946  1.490004   \n",
       "2997 -1.636888  1.912824 -0.466934  0.984240  1.361227  0.673946  0.835605   \n",
       "2998  0.835605  0.783813 -0.987951 -0.009257 -1.039976  1.101690  1.490004   \n",
       "2999  0.835605  0.783813 -0.987951 -0.009257 -1.039976  1.101690 -1.636888   \n",
       "\n",
       "            y2  delta_x2  delta_y2  ...       e96       e97       e98  \\\n",
       "0    -3.755330  0.474216 -1.642119  ... -0.046022  0.096742 -0.184472   \n",
       "1    -0.552212  2.070446 -1.332116  ... -0.019179 -0.046165  0.066972   \n",
       "2    -3.027177 -0.107625 -0.693829  ... -0.232747 -0.458506  0.470316   \n",
       "3    -0.552212  2.070446 -1.332116  ... -0.015118 -0.045306  0.060357   \n",
       "4    -3.027177 -0.107625 -0.693829  ...  0.093666  0.022980 -0.046237   \n",
       "...        ...       ...       ...  ...       ...       ...       ...   \n",
       "2995  0.783813 -0.987951 -0.009257  ...  0.285503 -0.021025  0.002730   \n",
       "2996  0.604459  0.959115  1.252741  ... -0.096031 -0.058165  0.050241   \n",
       "2997  0.783813 -0.987951 -0.009257  ... -0.114815 -0.054776  0.035625   \n",
       "2998  0.604459  0.959115  1.252741  ... -0.493235 -0.202894  0.138584   \n",
       "2999  1.912824 -0.466934  0.984240  ...  0.073987 -0.022883  0.020342   \n",
       "\n",
       "           e99    x_dist    y_dist         r       dvx       dvy     v_rel  \n",
       "0     0.265260  0.088615  0.728153  0.733526 -0.581841  0.948290  1.112561  \n",
       "1     0.071643 -1.832933 -2.474966  3.079789 -2.178071  0.638288  2.269670  \n",
       "2     0.406838 -0.088615 -0.728153  0.733526  0.581841 -0.948290  1.112561  \n",
       "3     0.068809 -1.921548 -3.203119  3.735280 -1.596229 -0.310002  1.626053  \n",
       "4     0.199105  1.832933  2.474966  3.079789  2.178071 -0.638288  2.269670  \n",
       "...        ...       ...       ...       ...       ...       ...       ...  \n",
       "2995  0.270177  0.654399 -0.179354  0.678532  1.947065  1.261998  2.320281  \n",
       "2996  0.090458 -3.126891  1.308365  3.389582 -1.426049 -0.268502  1.451106  \n",
       "2997  0.088639 -2.472492  1.129011  2.718066  0.521016  0.993497  1.121826  \n",
       "2998  0.229762 -0.654399  0.179354  0.678532 -1.947065 -1.261998  2.320281  \n",
       "2999  0.055981  2.472492 -1.129011  2.718066 -0.521016 -0.993497  1.121826  \n",
       "\n",
       "[3000 rows x 118 columns]"
      ]
     },
     "execution_count": 103,
     "metadata": {},
     "output_type": "execute_result"
    }
   ],
   "source": [
    "message_features = get_message_features(model, X_test[:500])\n",
    "message_features"
   ]
  },
  {
   "cell_type": "code",
   "execution_count": 100,
   "metadata": {},
   "outputs": [
    {
     "data": {
      "text/plain": [
       "['e0',\n",
       " 'e1',\n",
       " 'e2',\n",
       " 'e3',\n",
       " 'e4',\n",
       " 'e5',\n",
       " 'e6',\n",
       " 'e7',\n",
       " 'e8',\n",
       " 'e9',\n",
       " 'e10',\n",
       " 'e11',\n",
       " 'e12',\n",
       " 'e13',\n",
       " 'e14',\n",
       " 'e15',\n",
       " 'e16',\n",
       " 'e17',\n",
       " 'e18',\n",
       " 'e19',\n",
       " 'e20',\n",
       " 'e21',\n",
       " 'e22',\n",
       " 'e23',\n",
       " 'e24',\n",
       " 'e25',\n",
       " 'e26',\n",
       " 'e27',\n",
       " 'e28',\n",
       " 'e29',\n",
       " 'e30',\n",
       " 'e31',\n",
       " 'e32',\n",
       " 'e33',\n",
       " 'e34',\n",
       " 'e35',\n",
       " 'e36',\n",
       " 'e37',\n",
       " 'e38',\n",
       " 'e39',\n",
       " 'e40',\n",
       " 'e41',\n",
       " 'e42',\n",
       " 'e43',\n",
       " 'e44',\n",
       " 'e45',\n",
       " 'e46',\n",
       " 'e47',\n",
       " 'e48',\n",
       " 'e49',\n",
       " 'e50',\n",
       " 'e51',\n",
       " 'e52',\n",
       " 'e53',\n",
       " 'e54',\n",
       " 'e55',\n",
       " 'e56',\n",
       " 'e57',\n",
       " 'e58',\n",
       " 'e59',\n",
       " 'e60',\n",
       " 'e61',\n",
       " 'e62',\n",
       " 'e63',\n",
       " 'e64',\n",
       " 'e65',\n",
       " 'e66',\n",
       " 'e67',\n",
       " 'e68',\n",
       " 'e69',\n",
       " 'e70',\n",
       " 'e71',\n",
       " 'e72',\n",
       " 'e73',\n",
       " 'e74',\n",
       " 'e75',\n",
       " 'e76',\n",
       " 'e77',\n",
       " 'e78',\n",
       " 'e79',\n",
       " 'e80',\n",
       " 'e81',\n",
       " 'e82',\n",
       " 'e83',\n",
       " 'e84',\n",
       " 'e85',\n",
       " 'e86',\n",
       " 'e87',\n",
       " 'e88',\n",
       " 'e89',\n",
       " 'e90',\n",
       " 'e91',\n",
       " 'e92',\n",
       " 'e93',\n",
       " 'e94',\n",
       " 'e95',\n",
       " 'e96',\n",
       " 'e97',\n",
       " 'e98',\n",
       " 'e99']"
      ]
     },
     "execution_count": 100,
     "metadata": {},
     "output_type": "execute_result"
    }
   ],
   "source": [
    "message_columns = [col for col in message_features.columns if col.startswith('e')]\n",
    "message_columns"
   ]
  },
  {
   "cell_type": "code",
   "execution_count": null,
   "metadata": {},
   "outputs": [],
   "source": []
  }
 ],
 "metadata": {
  "kernelspec": {
   "display_name": ".venv",
   "language": "python",
   "name": "python3"
  },
  "language_info": {
   "codemirror_mode": {
    "name": "ipython",
    "version": 3
   },
   "file_extension": ".py",
   "mimetype": "text/x-python",
   "name": "python",
   "nbconvert_exporter": "python",
   "pygments_lexer": "ipython3",
   "version": "3.10.16"
  }
 },
 "nbformat": 4,
 "nbformat_minor": 2
}
